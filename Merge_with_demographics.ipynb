{
 "cells": [
  {
   "cell_type": "code",
   "execution_count": 1,
   "metadata": {
    "collapsed": true
   },
   "outputs": [],
   "source": [
    "import pandas as pd\n",
    "import numpy as np\n",
    "pd.set_option('display.max_columns', None)"
   ]
  },
  {
   "cell_type": "code",
   "execution_count": 2,
   "metadata": {
    "collapsed": false
   },
   "outputs": [
    {
     "name": "stderr",
     "output_type": "stream",
     "text": [
      "/Users/rubenstern/anaconda3/lib/python3.6/site-packages/numpy/lib/arraysetops.py:463: FutureWarning: elementwise comparison failed; returning scalar instead, but in the future will perform elementwise comparison\n",
      "  mask |= (ar1 == a)\n"
     ]
    }
   ],
   "source": [
    "listing_merged = pd.read_csv('data/merged_data_clean.csv',index_col=0)\n",
    "demographics = pd.read_csv('data/demo_merged.csv',index_col=0)"
   ]
  },
  {
   "cell_type": "code",
   "execution_count": 3,
   "metadata": {
    "collapsed": false
   },
   "outputs": [
    {
     "data": {
      "text/plain": [
       "(1532870, 247)"
      ]
     },
     "execution_count": 3,
     "metadata": {},
     "output_type": "execute_result"
    }
   ],
   "source": [
    "listing_merged.shape"
   ]
  },
  {
   "cell_type": "code",
   "execution_count": 4,
   "metadata": {
    "collapsed": false
   },
   "outputs": [
    {
     "data": {
      "text/plain": [
       "(10981, 30)"
      ]
     },
     "execution_count": 4,
     "metadata": {},
     "output_type": "execute_result"
    }
   ],
   "source": [
    "demographics.shape"
   ]
  },
  {
   "cell_type": "code",
   "execution_count": 5,
   "metadata": {
    "collapsed": false
   },
   "outputs": [],
   "source": [
    "listing_merged['zipcode'] = listing_merged['zipcode'].astype(int)\n",
    "demographics=demographics.rename(columns = {'Id2':'zipcode'})"
   ]
  },
  {
   "cell_type": "code",
   "execution_count": 6,
   "metadata": {
    "collapsed": false
   },
   "outputs": [],
   "source": [
    "listings_demographics_merged = pd.merge(listing_merged, demographics, on='zipcode',how='inner')"
   ]
  },
  {
   "cell_type": "code",
   "execution_count": 7,
   "metadata": {
    "collapsed": false
   },
   "outputs": [
    {
     "data": {
      "text/plain": [
       "(1526631, 276)"
      ]
     },
     "execution_count": 7,
     "metadata": {},
     "output_type": "execute_result"
    }
   ],
   "source": [
    "listings_demographics_merged.shape"
   ]
  },
  {
   "cell_type": "code",
   "execution_count": 8,
   "metadata": {
    "collapsed": false
   },
   "outputs": [],
   "source": [
    "listings_demographics_merged.dropna(inplace=True)"
   ]
  },
  {
   "cell_type": "code",
   "execution_count": 9,
   "metadata": {
    "collapsed": false
   },
   "outputs": [
    {
     "data": {
      "text/plain": [
       "(1170591, 276)"
      ]
     },
     "execution_count": 9,
     "metadata": {},
     "output_type": "execute_result"
    }
   ],
   "source": [
    "listings_demographics_merged.shape"
   ]
  },
  {
   "cell_type": "code",
   "execution_count": 10,
   "metadata": {
    "collapsed": false
   },
   "outputs": [
    {
     "data": {
      "text/plain": [
       "accommodates                                  0\n",
       "availability_30                               0\n",
       "availability_365                              0\n",
       "availability_60                               0\n",
       "availability_90                               0\n",
       "bathrooms                                     0\n",
       "bedrooms                                      0\n",
       "beds                                          0\n",
       "extra_people                                  0\n",
       "guests_included                               0\n",
       "host_listings_count                           0\n",
       "host_total_listings_count                     0\n",
       "listing_id                                    0\n",
       "maximum_nights                                0\n",
       "minimum_nights                                0\n",
       "number_of_reviews                             0\n",
       "review_scores_accuracy                        0\n",
       "review_scores_checkin                         0\n",
       "review_scores_cleanliness                     0\n",
       "review_scores_communication                   0\n",
       "review_scores_location                        0\n",
       "review_scores_rating                          0\n",
       "review_scores_value                           0\n",
       "reviews_per_month                             0\n",
       "zipcode                                       0\n",
       "date                                          0\n",
       "amenities:                                    0\n",
       "amenities:  smooth pathway to front door      0\n",
       "amenities: 24-Hour Check-in                   0\n",
       "amenities: 24-hour check-in                   0\n",
       "                                             ..\n",
       "price                                         0\n",
       "Total; Estimate; Total population             0\n",
       "Total; Estimate; AGE - Under 5 years          0\n",
       "Total; Estimate; AGE - 5 to 9 years           0\n",
       "Total; Estimate; AGE - 10 to 14 years         0\n",
       "Total; Estimate; AGE - 15 to 19 years         0\n",
       "Total; Estimate; AGE - 20 to 24 years         0\n",
       "Total; Estimate; AGE - 25 to 29 years         0\n",
       "Total; Estimate; AGE - 30 to 34 years         0\n",
       "Total; Estimate; AGE - 35 to 39 years         0\n",
       "Total; Estimate; AGE - 40 to 44 years         0\n",
       "Total; Estimate; AGE - 45 to 49 years         0\n",
       "Total; Estimate; AGE - 50 to 54 years         0\n",
       "Total; Estimate; AGE - 55 to 59 years         0\n",
       "Total; Estimate; AGE - 60 to 64 years         0\n",
       "Total; Estimate; AGE - 65 to 69 years         0\n",
       "Total; Estimate; AGE - 70 to 74 years         0\n",
       "Total; Estimate; AGE - 75 to 79 years         0\n",
       "Total; Estimate; AGE - 80 to 84 years         0\n",
       "Total; Estimate; AGE - 85 years and over      0\n",
       "Households; Estimate; Less than $10,000       0\n",
       "Households; Estimate; $10,000 to $14,999      0\n",
       "Households; Estimate; $15,000 to $24,999      0\n",
       "Households; Estimate; $25,000 to $34,999      0\n",
       "Households; Estimate; $35,000 to $49,999      0\n",
       "Households; Estimate; $50,000 to $74,999      0\n",
       "Households; Estimate; $75,000 to $99,999      0\n",
       "Households; Estimate; $100,000 to $149,999    0\n",
       "Households; Estimate; $150,000 to $199,999    0\n",
       "Households; Estimate; $200,000 or more        0\n",
       "Length: 276, dtype: int64"
      ]
     },
     "execution_count": 10,
     "metadata": {},
     "output_type": "execute_result"
    }
   ],
   "source": [
    "listings_demographics_merged.isnull().sum()"
   ]
  },
  {
   "cell_type": "code",
   "execution_count": 11,
   "metadata": {
    "collapsed": false
   },
   "outputs": [],
   "source": [
    "listings_demographics_merged.to_csv('data/merged_data_with_demographics.csv')"
   ]
  },
  {
   "cell_type": "code",
   "execution_count": null,
   "metadata": {
    "collapsed": true
   },
   "outputs": [],
   "source": []
  }
 ],
 "metadata": {
  "kernelspec": {
   "display_name": "Python 3",
   "language": "python",
   "name": "python3"
  },
  "language_info": {
   "codemirror_mode": {
    "name": "ipython",
    "version": 3
   },
   "file_extension": ".py",
   "mimetype": "text/x-python",
   "name": "python",
   "nbconvert_exporter": "python",
   "pygments_lexer": "ipython3",
   "version": "3.6.0"
  }
 },
 "nbformat": 4,
 "nbformat_minor": 2
}
