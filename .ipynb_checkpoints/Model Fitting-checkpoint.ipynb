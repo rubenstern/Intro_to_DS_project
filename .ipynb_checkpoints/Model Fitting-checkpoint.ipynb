{
 "cells": [
  {
   "cell_type": "code",
   "execution_count": 1,
   "metadata": {
    "collapsed": true
   },
   "outputs": [],
   "source": [
    "import pandas as pd"
   ]
  },
  {
   "cell_type": "code",
   "execution_count": 2,
   "metadata": {
    "collapsed": true
   },
   "outputs": [],
   "source": [
    "from sklearn import linear_model"
   ]
  },
  {
   "cell_type": "code",
   "execution_count": 3,
   "metadata": {
    "collapsed": true
   },
   "outputs": [],
   "source": [
    "import numpy as np"
   ]
  },
  {
   "cell_type": "code",
   "execution_count": 4,
   "metadata": {
    "collapsed": true
   },
   "outputs": [],
   "source": [
    "import sklearn.metrics as skm"
   ]
  },
  {
   "cell_type": "code",
   "execution_count": 5,
   "metadata": {
    "collapsed": true
   },
   "outputs": [],
   "source": [
    "from sklearn.model_selection import GridSearchCV"
   ]
  },
  {
   "cell_type": "markdown",
   "metadata": {},
   "source": [
    "### Data Reading and Subsetting"
   ]
  },
  {
   "cell_type": "markdown",
   "metadata": {},
   "source": [
    "Run this to for debug:"
   ]
  },
  {
   "cell_type": "code",
   "execution_count": 81,
   "metadata": {
    "collapsed": true
   },
   "outputs": [],
   "source": [
    "quick_df = pd.read_csv(\"../fully_processed_data4.csv\",\n",
    "                      index_col = 0,\n",
    "                      nrows = 2500)"
   ]
  },
  {
   "cell_type": "markdown",
   "metadata": {},
   "source": [
    "Run this to use the whole dataset:"
   ]
  },
  {
   "cell_type": "code",
   "execution_count": 6,
   "metadata": {},
   "outputs": [
    {
     "name": "stderr",
     "output_type": "stream",
     "text": [
      "/Users/atakanokan/anaconda/lib/python3.6/site-packages/numpy/lib/arraysetops.py:395: FutureWarning: elementwise comparison failed; returning scalar instead, but in the future will perform elementwise comparison\n",
      "  mask |= (ar1 == a)\n"
     ]
    }
   ],
   "source": [
    "quick_df = pd.read_csv(\"../fully_processed_data4.csv\",\n",
    "                      index_col = 0)"
   ]
  },
  {
   "cell_type": "code",
   "execution_count": 7,
   "metadata": {
    "scrolled": true
   },
   "outputs": [
    {
     "data": {
      "text/plain": [
       "1177"
      ]
     },
     "execution_count": 7,
     "metadata": {},
     "output_type": "execute_result"
    }
   ],
   "source": [
    "(quick_df['price'] > 2500).sum()"
   ]
  },
  {
   "cell_type": "code",
   "execution_count": 8,
   "metadata": {
    "collapsed": true
   },
   "outputs": [],
   "source": [
    "quick_df = quick_df[quick_df['price'] < 2500]"
   ]
  },
  {
   "cell_type": "code",
   "execution_count": 9,
   "metadata": {
    "scrolled": true
   },
   "outputs": [
    {
     "name": "stdout",
     "output_type": "stream",
     "text": [
      "(1126711, 284)\n",
      "(1126711, 282)\n"
     ]
    }
   ],
   "source": [
    "print(quick_df.shape)\n",
    "quick_df.drop(\"date\", axis = 1, inplace=True)   #we already have day month year column\n",
    "quick_df.drop(\"zipcode\", axis = 1, inplace=True)\n",
    "print(quick_df.shape)"
   ]
  },
  {
   "cell_type": "code",
   "execution_count": 10,
   "metadata": {
    "collapsed": true
   },
   "outputs": [],
   "source": [
    "quick_df = quick_df.sample(frac = 0.6)"
   ]
  },
  {
   "cell_type": "markdown",
   "metadata": {},
   "source": [
    "Partition the model into training, validation and test. Each set should contain different listing_ids:"
   ]
  },
  {
   "cell_type": "code",
   "execution_count": 11,
   "metadata": {
    "scrolled": true
   },
   "outputs": [
    {
     "data": {
      "text/plain": [
       "0         1048577\n",
       "1         1966084\n",
       "2        12713991\n",
       "3        17432584\n",
       "4        12713995\n",
       "5        15073292\n",
       "6          655374\n",
       "7         8650772\n",
       "8        10747925\n",
       "9        20840469\n",
       "10       16646171\n",
       "11       15859741\n",
       "12        8257567\n",
       "13       15597600\n",
       "14        9044001\n",
       "15       15073315\n",
       "16       10747942\n",
       "17       14549031\n",
       "18       11010086\n",
       "19        8126505\n",
       "20        1835049\n",
       "21        6291497\n",
       "22        2359340\n",
       "23        8650800\n",
       "24        8519730\n",
       "25        1179701\n",
       "26        6553657\n",
       "27       14549056\n",
       "28        6291522\n",
       "29       16121924\n",
       "           ...   \n",
       "58702    11534269\n",
       "58703    17301440\n",
       "58704    15466434\n",
       "58705    12713927\n",
       "58706    15466441\n",
       "58707    15990734\n",
       "58708      524239\n",
       "58709     1310672\n",
       "58710     6553553\n",
       "58711     4325329\n",
       "58712     1572815\n",
       "58713     1703893\n",
       "58714     6553559\n",
       "58715    11010008\n",
       "58716    15204319\n",
       "58717    19005408\n",
       "58718    16383969\n",
       "58719     4849634\n",
       "58720    16777183\n",
       "58721    16515048\n",
       "58722    17956844\n",
       "58723     6422511\n",
       "58724     4718577\n",
       "58725     5636082\n",
       "58726      655346\n",
       "58727    15990773\n",
       "58728     4194302\n",
       "58729    11141109\n",
       "58730    20709369\n",
       "58731    15073278\n",
       "Length: 58732, dtype: int64"
      ]
     },
     "execution_count": 11,
     "metadata": {},
     "output_type": "execute_result"
    }
   ],
   "source": [
    "listing_ids = pd.Series(list(set(quick_df[\"listing_id\"])))\n",
    "listing_ids"
   ]
  },
  {
   "cell_type": "code",
   "execution_count": 12,
   "metadata": {},
   "outputs": [
    {
     "data": {
      "text/plain": [
       "58732"
      ]
     },
     "execution_count": 12,
     "metadata": {},
     "output_type": "execute_result"
    }
   ],
   "source": [
    "len(listing_ids)"
   ]
  },
  {
   "cell_type": "code",
   "execution_count": 13,
   "metadata": {
    "collapsed": true
   },
   "outputs": [],
   "source": [
    "train_id, validate_id, test_id = np.split(listing_ids.sample(frac=1), \n",
    "                                         [int(.6*len(listing_ids)), int(.8*len(listing_ids))])"
   ]
  },
  {
   "cell_type": "code",
   "execution_count": 14,
   "metadata": {
    "scrolled": true
   },
   "outputs": [
    {
     "data": {
      "text/plain": [
       "(35239,)"
      ]
     },
     "execution_count": 14,
     "metadata": {},
     "output_type": "execute_result"
    }
   ],
   "source": [
    "train_id.shape"
   ]
  },
  {
   "cell_type": "code",
   "execution_count": 15,
   "metadata": {},
   "outputs": [
    {
     "data": {
      "text/plain": [
       "(11746,)"
      ]
     },
     "execution_count": 15,
     "metadata": {},
     "output_type": "execute_result"
    }
   ],
   "source": [
    "validate_id.shape"
   ]
  },
  {
   "cell_type": "code",
   "execution_count": 16,
   "metadata": {},
   "outputs": [
    {
     "data": {
      "text/plain": [
       "(11747,)"
      ]
     },
     "execution_count": 16,
     "metadata": {},
     "output_type": "execute_result"
    }
   ],
   "source": [
    "test_id.shape"
   ]
  },
  {
   "cell_type": "code",
   "execution_count": 17,
   "metadata": {},
   "outputs": [
    {
     "data": {
      "text/plain": [
       "set()"
      ]
     },
     "execution_count": 17,
     "metadata": {},
     "output_type": "execute_result"
    }
   ],
   "source": [
    "set(train_id.values).intersection(validate_id.values)"
   ]
  },
  {
   "cell_type": "code",
   "execution_count": 18,
   "metadata": {
    "scrolled": true
   },
   "outputs": [
    {
     "data": {
      "text/plain": [
       "set()"
      ]
     },
     "execution_count": 18,
     "metadata": {},
     "output_type": "execute_result"
    }
   ],
   "source": [
    "set(train_id.values).intersection(test_id.values)"
   ]
  },
  {
   "cell_type": "code",
   "execution_count": 19,
   "metadata": {},
   "outputs": [
    {
     "data": {
      "text/plain": [
       "set()"
      ]
     },
     "execution_count": 19,
     "metadata": {},
     "output_type": "execute_result"
    }
   ],
   "source": [
    "set(test_id.values).intersection(validate_id.values)"
   ]
  },
  {
   "cell_type": "code",
   "execution_count": 20,
   "metadata": {
    "scrolled": true
   },
   "outputs": [
    {
     "data": {
      "text/plain": [
       "(404723, 282)"
      ]
     },
     "execution_count": 20,
     "metadata": {},
     "output_type": "execute_result"
    }
   ],
   "source": [
    "train_df = quick_df[quick_df[\"listing_id\"].isin(train_id)]\n",
    "train_df.shape"
   ]
  },
  {
   "cell_type": "code",
   "execution_count": 21,
   "metadata": {},
   "outputs": [
    {
     "data": {
      "text/plain": [
       "(136257, 282)"
      ]
     },
     "execution_count": 21,
     "metadata": {},
     "output_type": "execute_result"
    }
   ],
   "source": [
    "validate_df = quick_df[quick_df[\"listing_id\"].isin(validate_id)]\n",
    "validate_df.shape"
   ]
  },
  {
   "cell_type": "code",
   "execution_count": 22,
   "metadata": {},
   "outputs": [
    {
     "data": {
      "text/plain": [
       "(135047, 282)"
      ]
     },
     "execution_count": 22,
     "metadata": {},
     "output_type": "execute_result"
    }
   ],
   "source": [
    "test_df = quick_df[quick_df[\"listing_id\"].isin(test_id)]\n",
    "test_df.shape"
   ]
  },
  {
   "cell_type": "code",
   "execution_count": 23,
   "metadata": {},
   "outputs": [
    {
     "data": {
      "text/plain": [
       "(540980, 282)"
      ]
     },
     "execution_count": 23,
     "metadata": {},
     "output_type": "execute_result"
    }
   ],
   "source": [
    "train_val_df = quick_df[quick_df[\"listing_id\"].isin(train_id.append(validate_id))]\n",
    "train_val_df.shape"
   ]
  },
  {
   "cell_type": "markdown",
   "metadata": {},
   "source": [
    "### Generating Custom Folds"
   ]
  },
  {
   "cell_type": "markdown",
   "metadata": {},
   "source": [
    "To make sure that each house's every listing only is in the training or validation set and is not in both sets a custom Kfold function was applied:"
   ]
  },
  {
   "cell_type": "code",
   "execution_count": 24,
   "metadata": {
    "collapsed": true
   },
   "outputs": [],
   "source": [
    "from sklearn.model_selection import GroupKFold"
   ]
  },
  {
   "cell_type": "code",
   "execution_count": 25,
   "metadata": {},
   "outputs": [
    {
     "data": {
      "text/plain": [
       "[(array([     0,      2,      3, ..., 540975, 540976, 540978]),\n",
       "  array([     1,      6,      8, ..., 540973, 540977, 540979])),\n",
       " (array([     0,      1,      5, ..., 540977, 540978, 540979]),\n",
       "  array([     2,      3,      4, ..., 540961, 540962, 540974])),\n",
       " (array([     1,      2,      3, ..., 540974, 540977, 540979]),\n",
       "  array([     0,      5,     10, ..., 540975, 540976, 540978]))]"
      ]
     },
     "execution_count": 25,
     "metadata": {},
     "output_type": "execute_result"
    }
   ],
   "source": [
    "custom_cv = list(GroupKFold(n_splits = 3).split(train_val_df.drop(\"price\",axis=1),\n",
    "                                                train_val_df[\"price\"],\n",
    "                                                train_val_df[\"listing_id\"]))\n",
    "custom_cv"
   ]
  },
  {
   "cell_type": "markdown",
   "metadata": {},
   "source": [
    "## Error Functions"
   ]
  },
  {
   "cell_type": "code",
   "execution_count": 26,
   "metadata": {
    "collapsed": true
   },
   "outputs": [],
   "source": [
    "def mean_abs_err(validate_df,y_pred):\n",
    "    return sum(abs(validate_df[\"price\"] - y_pred)/validate_df[\"price\"])/len(y_pred)"
   ]
  },
  {
   "cell_type": "code",
   "execution_count": 27,
   "metadata": {
    "collapsed": true
   },
   "outputs": [],
   "source": [
    "def price_conf_int_check(validate_df, upper_perc, lower_perc, y_pred):\n",
    "    upper_bound = validate_df[\"price\"] * (1 + upper_perc)\n",
    "    lower_bound = validate_df[\"price\"] * (1 - lower_perc)\n",
    "    \n",
    "    return sum(list(lower_bound < y_pred) & (y_pred < upper_bound)) / len(y_pred)"
   ]
  },
  {
   "cell_type": "markdown",
   "metadata": {},
   "source": [
    "## Random Forest"
   ]
  },
  {
   "cell_type": "code",
   "execution_count": 75,
   "metadata": {
    "collapsed": true
   },
   "outputs": [],
   "source": [
    "from sklearn.ensemble import RandomForestRegressor"
   ]
  },
  {
   "cell_type": "code",
   "execution_count": 76,
   "metadata": {
    "collapsed": true
   },
   "outputs": [],
   "source": [
    "from sklearn.model_selection import ParameterGrid"
   ]
  },
  {
   "cell_type": "markdown",
   "metadata": {},
   "source": [
    "### Single Random Forest Fit"
   ]
  },
  {
   "cell_type": "code",
   "execution_count": null,
   "metadata": {
    "collapsed": true
   },
   "outputs": [],
   "source": [
    "#rand_for = RandomForestRegressor(max_depth=10, random_state=0)\n",
    "rand_for = RandomForestRegressor()\n",
    "rand_for"
   ]
  },
  {
   "cell_type": "code",
   "execution_count": null,
   "metadata": {
    "collapsed": true
   },
   "outputs": [],
   "source": [
    "rand_for.fit(train_df.drop(\"price\",axis=1),train_df[\"price\"])"
   ]
  },
  {
   "cell_type": "code",
   "execution_count": null,
   "metadata": {
    "collapsed": true
   },
   "outputs": [],
   "source": [
    "rand_for.feature_importances_"
   ]
  },
  {
   "cell_type": "code",
   "execution_count": null,
   "metadata": {
    "collapsed": true
   },
   "outputs": [],
   "source": [
    "y_pred_randfor = rand_for.predict(validate_df.drop(\"price\",axis=1))\n",
    "y_pred_randfor"
   ]
  },
  {
   "cell_type": "code",
   "execution_count": null,
   "metadata": {
    "collapsed": true
   },
   "outputs": [],
   "source": [
    "skm.mean_squared_error(y_true= validate_df[\"price\"],\n",
    "                       y_pred= y_pred_randfor)"
   ]
  },
  {
   "cell_type": "code",
   "execution_count": null,
   "metadata": {
    "collapsed": true
   },
   "outputs": [],
   "source": [
    "mean_abs_err(validate_df,y_pred_lasso)"
   ]
  },
  {
   "cell_type": "code",
   "execution_count": null,
   "metadata": {
    "collapsed": true
   },
   "outputs": [],
   "source": [
    "price_conf_int_check(validate_df=validate_df,\n",
    "                    upper_perc = 0.2,\n",
    "                    lower_perc = 0.2,\n",
    "                    y_pred = y_pred_randfor)"
   ]
  },
  {
   "cell_type": "markdown",
   "metadata": {},
   "source": [
    "### Grid Search CV for RF"
   ]
  },
  {
   "cell_type": "code",
   "execution_count": 26,
   "metadata": {},
   "outputs": [
    {
     "data": {
      "text/plain": [
       "{'max_depth': [None, 5],\n",
       " 'min_samples_split': [10, 50],\n",
       " 'n_estimators': [20, 50, 100]}"
      ]
     },
     "execution_count": 26,
     "metadata": {},
     "output_type": "execute_result"
    }
   ],
   "source": [
    "param_rand_for = {'n_estimators': [20, 50, 100], \n",
    "                  'max_depth': [None, 5], \n",
    "                  'min_samples_split': [10, 50]}\n",
    "param_rand_for"
   ]
  },
  {
   "cell_type": "code",
   "execution_count": 27,
   "metadata": {},
   "outputs": [
    {
     "data": {
      "text/plain": [
       "RandomForestRegressor(bootstrap=True, criterion='mse', max_depth=None,\n",
       "           max_features='auto', max_leaf_nodes=None,\n",
       "           min_impurity_decrease=0.0, min_impurity_split=None,\n",
       "           min_samples_leaf=1, min_samples_split=2,\n",
       "           min_weight_fraction_leaf=0.0, n_estimators=10, n_jobs=1,\n",
       "           oob_score=False, random_state=None, verbose=0, warm_start=False)"
      ]
     },
     "execution_count": 27,
     "metadata": {},
     "output_type": "execute_result"
    }
   ],
   "source": [
    "#rand_for = RandomForestRegressor(max_depth=10, random_state=0)\n",
    "rand_for = RandomForestRegressor()\n",
    "rand_for"
   ]
  },
  {
   "cell_type": "markdown",
   "metadata": {},
   "source": [
    "For the Random Forest we can use the model's default scoring metric since it is MSE:"
   ]
  },
  {
   "cell_type": "code",
   "execution_count": 61,
   "metadata": {
    "collapsed": true
   },
   "outputs": [],
   "source": [
    "grid_rand_for = GridSearchCV(rand_for, \n",
    "                             param_rand_for, \n",
    "                             cv = custom_cv,\n",
    "                             scoring = \"neg_mean_squared_error\")"
   ]
  },
  {
   "cell_type": "code",
   "execution_count": 62,
   "metadata": {},
   "outputs": [
    {
     "data": {
      "text/plain": [
       "GridSearchCV(cv=[(array([   0,    1, ..., 8202, 8203]), array([ 390,  391, ..., 8209, 8210])), (array([  26,   27, ..., 8209, 8210]), array([   0,    1, ..., 8171, 8172])), (array([   0,    1, ..., 8209, 8210]), array([  26,   27, ..., 8140, 8141])), (array([   0,    1, ..., 8209, 8210]), array([  64,   65, ..., 8202, 8203])), (array([   0,    1, ..., 8209, 8210]), array([ 189,  190, ..., 8034, 8035]))],\n",
       "       error_score='raise',\n",
       "       estimator=RandomForestRegressor(bootstrap=True, criterion='mse', max_depth=None,\n",
       "           max_features='auto', max_leaf_nodes=None,\n",
       "           min_impurity_decrease=0.0, min_impurity_split=None,\n",
       "           min_samples_leaf=1, min_samples_split=2,\n",
       "           min_weight_fraction_leaf=0.0, n_estimators=10, n_jobs=1,\n",
       "           oob_score=False, random_state=None, verbose=0, warm_start=False),\n",
       "       fit_params=None, iid=True, n_jobs=1,\n",
       "       param_grid={'n_estimators': [20, 50, 100], 'max_depth': [None, 5], 'min_samples_split': [10, 50]},\n",
       "       pre_dispatch='2*n_jobs', refit=True, return_train_score='warn',\n",
       "       scoring='neg_mean_squared_error', verbose=0)"
      ]
     },
     "execution_count": 62,
     "metadata": {},
     "output_type": "execute_result"
    }
   ],
   "source": [
    "grid_rand_for.fit(train_val_df.drop(\"price\",axis=1),\n",
    "                  train_val_df[\"price\"])"
   ]
  },
  {
   "cell_type": "code",
   "execution_count": 63,
   "metadata": {},
   "outputs": [
    {
     "data": {
      "text/plain": [
       "-15242.25342682474"
      ]
     },
     "execution_count": 63,
     "metadata": {},
     "output_type": "execute_result"
    }
   ],
   "source": [
    "grid_rand_for.best_score_"
   ]
  },
  {
   "cell_type": "code",
   "execution_count": 64,
   "metadata": {
    "scrolled": true
   },
   "outputs": [
    {
     "data": {
      "text/plain": [
       "RandomForestRegressor(bootstrap=True, criterion='mse', max_depth=None,\n",
       "           max_features='auto', max_leaf_nodes=None,\n",
       "           min_impurity_decrease=0.0, min_impurity_split=None,\n",
       "           min_samples_leaf=1, min_samples_split=10,\n",
       "           min_weight_fraction_leaf=0.0, n_estimators=100, n_jobs=1,\n",
       "           oob_score=False, random_state=None, verbose=0, warm_start=False)"
      ]
     },
     "execution_count": 64,
     "metadata": {},
     "output_type": "execute_result"
    }
   ],
   "source": [
    "grid_rand_for.best_estimator_"
   ]
  },
  {
   "cell_type": "code",
   "execution_count": 65,
   "metadata": {},
   "outputs": [
    {
     "data": {
      "text/plain": [
       "{'max_depth': None, 'min_samples_split': 10, 'n_estimators': 100}"
      ]
     },
     "execution_count": 65,
     "metadata": {},
     "output_type": "execute_result"
    }
   ],
   "source": [
    "grid_rand_for.best_params_"
   ]
  },
  {
   "cell_type": "markdown",
   "metadata": {},
   "source": [
    "## Linear Regression with Lasso"
   ]
  },
  {
   "cell_type": "markdown",
   "metadata": {},
   "source": [
    "### Single Fit for LR with Lasso"
   ]
  },
  {
   "cell_type": "code",
   "execution_count": 68,
   "metadata": {
    "collapsed": true
   },
   "outputs": [],
   "source": [
    "lasso_alpha = 0.1"
   ]
  },
  {
   "cell_type": "code",
   "execution_count": 70,
   "metadata": {
    "collapsed": true
   },
   "outputs": [],
   "source": [
    "lasso_reg = linear_model.Lasso(alpha = lasso_alpha,\n",
    "                               max_iter = 100000)"
   ]
  },
  {
   "cell_type": "code",
   "execution_count": 71,
   "metadata": {},
   "outputs": [
    {
     "data": {
      "text/plain": [
       "Lasso(alpha=0.1, copy_X=True, fit_intercept=True, max_iter=100000,\n",
       "   normalize=False, positive=False, precompute=False, random_state=None,\n",
       "   selection='cyclic', tol=0.0001, warm_start=False)"
      ]
     },
     "execution_count": 71,
     "metadata": {},
     "output_type": "execute_result"
    }
   ],
   "source": [
    "lasso_reg.fit(train_df.drop(\"price\",axis=1),\n",
    "              train_df[\"price\"])"
   ]
  },
  {
   "cell_type": "code",
   "execution_count": 72,
   "metadata": {
    "scrolled": true
   },
   "outputs": [
    {
     "data": {
      "text/plain": [
       "array([  87.44729073,  489.52224396,  350.67032685, ...,  278.92729904,\n",
       "        122.63471519,  344.51550627])"
      ]
     },
     "execution_count": 72,
     "metadata": {},
     "output_type": "execute_result"
    }
   ],
   "source": [
    "y_pred_lasso = lasso_reg.predict(validate_df.drop(\"price\",axis=1))\n",
    "y_pred_lasso"
   ]
  },
  {
   "cell_type": "code",
   "execution_count": 73,
   "metadata": {},
   "outputs": [
    {
     "data": {
      "text/plain": [
       "3341"
      ]
     },
     "execution_count": 73,
     "metadata": {},
     "output_type": "execute_result"
    }
   ],
   "source": [
    "(y_pred_lasso < 0).sum()"
   ]
  },
  {
   "cell_type": "code",
   "execution_count": 74,
   "metadata": {
    "collapsed": true
   },
   "outputs": [],
   "source": [
    "y_pred_lasso[y_pred_lasso < 0] = 10"
   ]
  },
  {
   "cell_type": "code",
   "execution_count": 75,
   "metadata": {},
   "outputs": [
    {
     "data": {
      "text/plain": [
       "0"
      ]
     },
     "execution_count": 75,
     "metadata": {},
     "output_type": "execute_result"
    }
   ],
   "source": [
    "(y_pred_lasso < 0).sum()"
   ]
  },
  {
   "cell_type": "code",
   "execution_count": 76,
   "metadata": {},
   "outputs": [
    {
     "data": {
      "text/plain": [
       "array([  59.,  407.,  325., ...,  336.,   74.,  900.])"
      ]
     },
     "execution_count": 76,
     "metadata": {},
     "output_type": "execute_result"
    }
   ],
   "source": [
    "validate_df[\"price\"].values"
   ]
  },
  {
   "cell_type": "code",
   "execution_count": 77,
   "metadata": {},
   "outputs": [
    {
     "data": {
      "text/plain": [
       "0.56039138706147062"
      ]
     },
     "execution_count": 77,
     "metadata": {},
     "output_type": "execute_result"
    }
   ],
   "source": [
    "r2_score_lasso = skm.r2_score(validate_df[\"price\"], y_pred_lasso)\n",
    "r2_score_lasso"
   ]
  },
  {
   "cell_type": "code",
   "execution_count": 78,
   "metadata": {},
   "outputs": [
    {
     "data": {
      "text/plain": [
       "17160.638071194138"
      ]
     },
     "execution_count": 78,
     "metadata": {},
     "output_type": "execute_result"
    }
   ],
   "source": [
    "skm.mean_squared_error(y_true= validate_df[\"price\"],\n",
    "                       y_pred= y_pred_lasso)"
   ]
  },
  {
   "cell_type": "code",
   "execution_count": 79,
   "metadata": {},
   "outputs": [
    {
     "data": {
      "text/plain": [
       "0.54314637565235413"
      ]
     },
     "execution_count": 79,
     "metadata": {},
     "output_type": "execute_result"
    }
   ],
   "source": [
    "mean_abs_err(validate_df,y_pred_lasso)"
   ]
  },
  {
   "cell_type": "code",
   "execution_count": 80,
   "metadata": {
    "scrolled": true
   },
   "outputs": [
    {
     "data": {
      "text/plain": [
       "0.30108544882097799"
      ]
     },
     "execution_count": 80,
     "metadata": {},
     "output_type": "execute_result"
    }
   ],
   "source": [
    "price_conf_int_check(validate_df=validate_df,\n",
    "                    upper_perc = 0.2,\n",
    "                    lower_perc = 0.2,\n",
    "                    y_pred = y_pred_lasso)"
   ]
  },
  {
   "cell_type": "code",
   "execution_count": 85,
   "metadata": {
    "scrolled": true
   },
   "outputs": [
    {
     "data": {
      "text/plain": [
       "{'Households; Estimate; $10,000 to $14,999': 0.87992440261252602,\n",
       " 'Households; Estimate; $100,000 to $149,999': -0.65902632652875215,\n",
       " 'Households; Estimate; $15,000 to $24,999': 3.2081403830079367,\n",
       " 'Households; Estimate; $150,000 to $199,999': 0.67082999079513606,\n",
       " 'Households; Estimate; $200,000 or more': 2.4260529487021931,\n",
       " 'Households; Estimate; $25,000 to $34,999': -2.3726650129623619,\n",
       " 'Households; Estimate; $35,000 to $49,999': -2.0840076216120993,\n",
       " 'Households; Estimate; $50,000 to $74,999': -0.2930070878166714,\n",
       " 'Households; Estimate; $75,000 to $99,999': -1.6752739033019319,\n",
       " 'Households; Estimate; Less than $10,000': 0.0,\n",
       " 'Total; Estimate; AGE - 10 to 14 years': -8.0201555182659146,\n",
       " 'Total; Estimate; AGE - 15 to 19 years': 1.4919931035378458,\n",
       " 'Total; Estimate; AGE - 20 to 24 years': -2.4528466300948564,\n",
       " 'Total; Estimate; AGE - 25 to 29 years': 1.7092104433866688,\n",
       " 'Total; Estimate; AGE - 30 to 34 years': 0.23853919767438808,\n",
       " 'Total; Estimate; AGE - 35 to 39 years': -0.89766971070109092,\n",
       " 'Total; Estimate; AGE - 40 to 44 years': -2.4201267012934875,\n",
       " 'Total; Estimate; AGE - 45 to 49 years': -0.0,\n",
       " 'Total; Estimate; AGE - 5 to 9 years': -0.40206484407002885,\n",
       " 'Total; Estimate; AGE - 50 to 54 years': 0.07402582556872514,\n",
       " 'Total; Estimate; AGE - 55 to 59 years': 0.63190273559102361,\n",
       " 'Total; Estimate; AGE - 60 to 64 years': -1.1666732504103492,\n",
       " 'Total; Estimate; AGE - 65 to 69 years': 0.013773130736536701,\n",
       " 'Total; Estimate; AGE - 70 to 74 years': -2.9014518576492678,\n",
       " 'Total; Estimate; AGE - 75 to 79 years': 1.9675297948870751,\n",
       " 'Total; Estimate; AGE - 80 to 84 years': 3.7762640165305879,\n",
       " 'Total; Estimate; AGE - 85 years and over': -11.5295896686718,\n",
       " 'Total; Estimate; AGE - Under 5 years': -3.036883744555714,\n",
       " 'Total; Estimate; Total population': 6.6653995964026177e-05,\n",
       " 'accommodates': 19.21148010746511,\n",
       " 'amenities: ': -0.0,\n",
       " 'amenities:  smooth pathway to front door': 0.0,\n",
       " 'amenities: 24-Hour Check-in': -0.0,\n",
       " 'amenities: 24-hour check-in': -0.81702629439908792,\n",
       " 'amenities: Accessible-height bed': 0.0,\n",
       " 'amenities: Accessible-height toilet': -0.0,\n",
       " 'amenities: Air Conditioning': 0.0,\n",
       " 'amenities: Air conditioning': -0.17507350909384256,\n",
       " 'amenities: Air purifier': -0.0,\n",
       " 'amenities: BBQ grill': 0.0,\n",
       " 'amenities: Baby bath': -0.0,\n",
       " 'amenities: Baby monitor': 0.0,\n",
       " 'amenities: Babysitter recommendations': 0.0,\n",
       " 'amenities: Bath towel': 0.0,\n",
       " 'amenities: Bathtub': -0.0,\n",
       " 'amenities: Bathtub with shower chair': 0.0,\n",
       " 'amenities: Beach essentials': 0.0,\n",
       " 'amenities: Beachfront': -0.0,\n",
       " 'amenities: Bed linens': 0.0,\n",
       " 'amenities: Body soap': 0.0,\n",
       " 'amenities: Breakfast': 0.0,\n",
       " 'amenities: Buzzer/Wireless Intercom': -0.0,\n",
       " 'amenities: Buzzer/wireless intercom': 0.1266308511365668,\n",
       " 'amenities: Cable TV': -0.046923006579987846,\n",
       " 'amenities: Carbon Monoxide Detector': -0.0,\n",
       " 'amenities: Carbon monoxide detector': 0.40093963425430529,\n",
       " 'amenities: Cat(s)': -0.32546759079083093,\n",
       " 'amenities: Changing table': -0.0,\n",
       " 'amenities: Children’s books and toys': -0.0,\n",
       " 'amenities: Children’s dinnerware': -0.0,\n",
       " 'amenities: Cleaning before checkout': -0.0,\n",
       " 'amenities: Coffee maker': 0.0,\n",
       " 'amenities: Cooking basics': 0.0,\n",
       " 'amenities: Crib': -0.0,\n",
       " 'amenities: Disabled parking spot': -0.0,\n",
       " 'amenities: Dishes and silverware': 0.0,\n",
       " 'amenities: Dishwasher': 0.0,\n",
       " 'amenities: Dog(s)': 0.0,\n",
       " 'amenities: Doorman': 0.0,\n",
       " 'amenities: Doorman Entry': 0.0,\n",
       " 'amenities: Dryer': 0.0,\n",
       " 'amenities: EV charger': -0.0,\n",
       " 'amenities: Elevator': 0.60889997949472729,\n",
       " 'amenities: Elevator in Building': -0.0,\n",
       " 'amenities: Elevator in building': 2.5906354283475816,\n",
       " 'amenities: Essentials': 0.0,\n",
       " 'amenities: Ethernet connection': 0.0,\n",
       " 'amenities: Extra pillows and blankets': 0.0,\n",
       " 'amenities: Family/Kid Friendly': 2.0948661233645267,\n",
       " 'amenities: Family/kid friendly': -0.36448162918321775,\n",
       " 'amenities: Fire Extinguisher': -0.0,\n",
       " 'amenities: Fire extinguisher': 0.0,\n",
       " 'amenities: Fireplace guards': -0.0,\n",
       " 'amenities: Firm matress': -0.0,\n",
       " 'amenities: Firm mattress': 0.0,\n",
       " 'amenities: First Aid Kit': 0.1237173930880872,\n",
       " 'amenities: First aid kit': -0.88793960416449391,\n",
       " 'amenities: Fixed grab bars for shower & toilet': 0.0,\n",
       " 'amenities: Flat': 0.0,\n",
       " 'amenities: Flat smooth pathway to front door': -0.0,\n",
       " 'amenities: Free Parking on Premises': 1.6421383897562578,\n",
       " 'amenities: Free parking on premises': -2.1577284705703548,\n",
       " 'amenities: Free parking on street': -0.0,\n",
       " 'amenities: Game console': 0.0,\n",
       " 'amenities: Garden or backyard': -0.0,\n",
       " 'amenities: Grab-rails for shower and toilet': -0.0,\n",
       " 'amenities: Ground floor access': -0.0,\n",
       " 'amenities: Gym': 0.0,\n",
       " 'amenities: Hair Dryer': 0.0,\n",
       " 'amenities: Hair dryer': -0.36019363241644392,\n",
       " 'amenities: Hand or paper towel': 0.0,\n",
       " 'amenities: Hand soap': 0.0,\n",
       " 'amenities: Handheld shower head': -0.0,\n",
       " 'amenities: Hangers': -0.0,\n",
       " 'amenities: Heating': -0.0,\n",
       " 'amenities: High chair': -0.0,\n",
       " 'amenities: Host greets you': 0.0,\n",
       " 'amenities: Hot Tub': 0.0,\n",
       " 'amenities: Hot tub': 0.0,\n",
       " 'amenities: Hot water': -0.0,\n",
       " 'amenities: Hot water kettle': -0.0,\n",
       " 'amenities: Indoor Fireplace': 0.0,\n",
       " 'amenities: Indoor fireplace': 0.0,\n",
       " 'amenities: Internet': -0.0,\n",
       " 'amenities: Iron': -0.60553882243191193,\n",
       " 'amenities: Keypad': -1.290938209548617,\n",
       " 'amenities: Kitchen': 0.0,\n",
       " 'amenities: Lake access': 0.0,\n",
       " 'amenities: Laptop Friendly Workspace': -0.0,\n",
       " 'amenities: Laptop friendly workspace': 0.99663712541194738,\n",
       " 'amenities: Lock on Bedroom Door': -0.0,\n",
       " 'amenities: Lock on bedroom door': -0.0,\n",
       " 'amenities: Lockbox': 0.0,\n",
       " 'amenities: Long term stays allowed': 0.0,\n",
       " 'amenities: Luggage dropoff allowed': -0.0,\n",
       " 'amenities: Microwave': 0.0,\n",
       " 'amenities: Other': 0.0,\n",
       " 'amenities: Other pet(s)': -0.0,\n",
       " 'amenities: Outlet covers': 0.0,\n",
       " 'amenities: Oven': 0.0,\n",
       " 'amenities: Pack ’n Play/travel crib': 0.0,\n",
       " 'amenities: Paid parking off premises': 0.0,\n",
       " 'amenities: Path to entrance lit at night': -0.0,\n",
       " 'amenities: Patio or balcony': 0.0,\n",
       " 'amenities: Pets Allowed': 0.0,\n",
       " 'amenities: Pets allowed': 0.9814521581222142,\n",
       " 'amenities: Pets live on this property': -0.4919829561767044,\n",
       " 'amenities: Pocket wifi': -0.0,\n",
       " 'amenities: Pool': -2.2289543815526525,\n",
       " 'amenities: Private bathroom': -0.0,\n",
       " 'amenities: Private entrance': -0.40176111384833041,\n",
       " 'amenities: Private living room': 0.0,\n",
       " 'amenities: Refrigerator': 4.2863642734087879,\n",
       " 'amenities: Roll-in shower with chair': 0.0,\n",
       " 'amenities: Roll-in shower with shower bench or chair': 0.0,\n",
       " 'amenities: Room-darkening shades': -0.0,\n",
       " 'amenities: Safety Card': -2.2668145112299491,\n",
       " 'amenities: Safety card': -0.0,\n",
       " 'amenities: Self Check-In': 3.4823387554435152,\n",
       " 'amenities: Shampoo': 2.0987893495931687,\n",
       " 'amenities: Single level home': -0.0,\n",
       " 'amenities: Ski in/Ski out': 0.0,\n",
       " 'amenities: Smart lock': 0.50372597112137252,\n",
       " 'amenities: Smartlock': -0.0,\n",
       " 'amenities: Smoke Detector': 5.0785062530210023,\n",
       " 'amenities: Smoke detector': -0.0,\n",
       " 'amenities: Smoking Allowed': 0.0,\n",
       " 'amenities: Smoking allowed': 0.0,\n",
       " 'amenities: Stair gates': 0.0,\n",
       " 'amenities: Step-free access': 0.0,\n",
       " 'amenities: Stove': 0.88819667839633554,\n",
       " 'amenities: Suitable for Events': -0.0,\n",
       " 'amenities: Suitable for events': 1.5348966637834378,\n",
       " 'amenities: TV': 0.38979085462815621,\n",
       " 'amenities: Table corner guards': -0.0,\n",
       " 'amenities: Toilet paper': 0.0,\n",
       " 'amenities: Tub with shower bench': 0.0,\n",
       " 'amenities: Washer': -1.6481675430880658,\n",
       " 'amenities: Washer / Dryer': 0.0,\n",
       " 'amenities: Waterfront': 0.0,\n",
       " 'amenities: Well-lit path to entrance': 0.0,\n",
       " 'amenities: Wheelchair Accessible': 0.0,\n",
       " 'amenities: Wheelchair accessible': 2.5073020053909998,\n",
       " 'amenities: Wide clearance to bed': 0.0,\n",
       " 'amenities: Wide clearance to shower & toilet': 0.0,\n",
       " 'amenities: Wide clearance to shower and toilet': -0.0,\n",
       " 'amenities: Wide doorway': 0.0,\n",
       " 'amenities: Wide entryway': 0.0,\n",
       " 'amenities: Wide hallway clearance': -0.0,\n",
       " 'amenities: Window guards': 0.0,\n",
       " 'amenities: Wireless Internet': 1.0791067568617845,\n",
       " 'amenities: translation missing: en.hosting_amenity_49': -0.0,\n",
       " 'amenities: translation missing: en.hosting_amenity_50': -0.0,\n",
       " 'availability_30': 0.45325478211116571,\n",
       " 'availability_365': 0.0093051004553635908,\n",
       " 'availability_60': 0.11399251904501009,\n",
       " 'availability_90': 0.21389598140887195,\n",
       " 'bathrooms': 57.443267111293459,\n",
       " 'bed_type: Airbed': 0.0,\n",
       " 'bed_type: Couch': 0.0,\n",
       " 'bed_type: Futon': -0.0,\n",
       " 'bed_type: Pull-out Sofa': -0.0,\n",
       " 'bed_type: Real Bed': 0.0,\n",
       " 'bedrooms': 44.752395343782197,\n",
       " 'beds': 0.64839551914333915,\n",
       " 'cancellation_policy: flexible': -0.0,\n",
       " 'cancellation_policy: moderate': -0.0,\n",
       " 'cancellation_policy: no_refunds': -0.0,\n",
       " 'cancellation_policy: strict': 0.81738108648095675,\n",
       " 'cancellation_policy: super_strict_30': -0.0,\n",
       " 'cancellation_policy: super_strict_60': 0.0,\n",
       " 'day': -0.017753185638031261,\n",
       " 'extra_people': 0.14400076681211935,\n",
       " 'guests_included': 5.5057186322855358,\n",
       " 'host_is_superhost: t': -0.7641593019349241,\n",
       " 'host_listings_count': 0.095406051058144592,\n",
       " 'host_response_time: a few days or more': -0.0,\n",
       " 'host_response_time: within a day': -1.2202450688241209,\n",
       " 'host_response_time: within a few hours': 0.76334379595127777,\n",
       " 'host_response_time: within an hour': 0.0,\n",
       " 'host_total_listings_count': 0.0,\n",
       " 'instant_bookable: t': -0.55740124889418119,\n",
       " 'is_holiday': 2.5623883991817951,\n",
       " 'listing_id': -5.0313103405830935e-07,\n",
       " 'maximum_nights': -2.8960287008853249e-08,\n",
       " 'minimum_nights': -0.4794787132670601,\n",
       " 'month': 0.97981873619412474,\n",
       " 'number_of_reviews': -0.10822110208279356,\n",
       " 'property_type: Apartment': -0.0,\n",
       " 'property_type: Bed & Breakfast': 0.0,\n",
       " 'property_type: Boat': -0.0,\n",
       " 'property_type: Boutique hotel': -0.0,\n",
       " 'property_type: Bungalow': 1.2235127743966356,\n",
       " 'property_type: Cabin': -0.0,\n",
       " 'property_type: Camper/RV': -0.0,\n",
       " 'property_type: Castle': 0.0,\n",
       " 'property_type: Cave': 0.0,\n",
       " 'property_type: Chalet': -0.0,\n",
       " 'property_type: Condominium': 1.9496366036721762,\n",
       " 'property_type: Dorm': 0.0,\n",
       " 'property_type: Earth House': -0.0,\n",
       " 'property_type: Guest suite': 0.0,\n",
       " 'property_type: Guesthouse': -0.68358596967370489,\n",
       " 'property_type: Hostel': 0.0,\n",
       " 'property_type: House': -0.0,\n",
       " 'property_type: Hut': -0.0,\n",
       " 'property_type: In-law': 0.0,\n",
       " 'property_type: Island': -0.0,\n",
       " 'property_type: Loft': 0.0,\n",
       " 'property_type: Other': -0.63919968469688082,\n",
       " 'property_type: Plane': 0.0,\n",
       " 'property_type: Serviced apartment': 0.0,\n",
       " 'property_type: Tent': 0.0,\n",
       " 'property_type: Timeshare': -0.0,\n",
       " 'property_type: Tipi': 0.0,\n",
       " 'property_type: Townhouse': 0.0,\n",
       " 'property_type: Train': 0.0,\n",
       " 'property_type: Treehouse': 0.0,\n",
       " 'property_type: Vacation home': -0.0,\n",
       " 'property_type: Villa': -0.0,\n",
       " 'property_type: Yurt': 0.0,\n",
       " 'real_estate_growth_5_years': -0.01805942195605963,\n",
       " 'real_estate_today': 0.02024301693754307,\n",
       " 'review_scores_accuracy': 3.8025271222410342,\n",
       " 'review_scores_checkin': -2.4582228875665315,\n",
       " 'review_scores_cleanliness': 9.6670291630580678,\n",
       " 'review_scores_communication': -2.7505524135718842,\n",
       " 'review_scores_location': 8.9147336395001879,\n",
       " 'review_scores_rating': 1.948747481003515,\n",
       " 'review_scores_value': -17.993085439795397,\n",
       " 'reviews_per_month': -2.7006565764368329,\n",
       " 'room_type: Entire home/apt': 1.5566317786854915,\n",
       " 'room_type: Private room': 0.0,\n",
       " 'room_type: Shared room': -1.9233777018522447,\n",
       " 'state: CA': -5.4395154021091194,\n",
       " 'state: CO': -29.678294764006996,\n",
       " 'state: DC': 5.1943603456065324,\n",
       " 'state: IL': 0.0,\n",
       " 'state: LA': -3.9295226199282332,\n",
       " 'state: MA': 27.689153007623176,\n",
       " 'state: MD': 0.0,\n",
       " 'state: MP': 0.0,\n",
       " 'state: NC': 33.696941349422694,\n",
       " 'state: NY': -9.197866251437592,\n",
       " 'state: OR': -0.0,\n",
       " 'state: TN': -20.802854417686934,\n",
       " 'state: TX': 27.015993073145182,\n",
       " 'state: WA': 0.0,\n",
       " 'week': 0.35294339740391534,\n",
       " 'weekday': 2.3371418455498607,\n",
       " 'year': 23.425093406280077}"
      ]
     },
     "execution_count": 85,
     "metadata": {},
     "output_type": "execute_result"
    }
   ],
   "source": [
    "coef_dict = {}\n",
    "for coef, feat in zip(lasso_reg.coef_,train_df.drop(\"price\",axis=1).columns):\n",
    "    coef_dict[feat] = coef\n",
    "    \n",
    "coef_dict"
   ]
  },
  {
   "cell_type": "code",
   "execution_count": 87,
   "metadata": {
    "scrolled": true
   },
   "outputs": [
    {
     "data": {
      "text/plain": [
       "[('state: CO', -29.678294764006996),\n",
       " ('state: TN', -20.802854417686934),\n",
       " ('review_scores_value', -17.993085439795397),\n",
       " ('Total; Estimate; AGE - 85 years and over', -11.5295896686718),\n",
       " ('state: NY', -9.197866251437592),\n",
       " ('Total; Estimate; AGE - 10 to 14 years', -8.0201555182659146),\n",
       " ('state: CA', -5.4395154021091194),\n",
       " ('state: LA', -3.9295226199282332),\n",
       " ('Total; Estimate; AGE - Under 5 years', -3.036883744555714),\n",
       " ('Total; Estimate; AGE - 70 to 74 years', -2.9014518576492678),\n",
       " ('review_scores_communication', -2.7505524135718842),\n",
       " ('reviews_per_month', -2.7006565764368329),\n",
       " ('review_scores_checkin', -2.4582228875665315),\n",
       " ('Total; Estimate; AGE - 20 to 24 years', -2.4528466300948564),\n",
       " ('Total; Estimate; AGE - 40 to 44 years', -2.4201267012934875),\n",
       " ('Households; Estimate; $25,000 to $34,999', -2.3726650129623619),\n",
       " ('amenities: Safety Card', -2.2668145112299491),\n",
       " ('amenities: Pool', -2.2289543815526525),\n",
       " ('amenities: Free parking on premises', -2.1577284705703548),\n",
       " ('Households; Estimate; $35,000 to $49,999', -2.0840076216120993),\n",
       " ('room_type: Shared room', -1.9233777018522447),\n",
       " ('Households; Estimate; $75,000 to $99,999', -1.6752739033019319),\n",
       " ('amenities: Washer', -1.6481675430880658),\n",
       " ('amenities: Keypad', -1.290938209548617),\n",
       " ('host_response_time: within a day', -1.2202450688241209),\n",
       " ('Total; Estimate; AGE - 60 to 64 years', -1.1666732504103492),\n",
       " ('Total; Estimate; AGE - 35 to 39 years', -0.89766971070109092),\n",
       " ('amenities: First aid kit', -0.88793960416449391),\n",
       " ('amenities: 24-hour check-in', -0.81702629439908792),\n",
       " ('host_is_superhost: t', -0.7641593019349241),\n",
       " ('property_type: Guesthouse', -0.68358596967370489),\n",
       " ('Households; Estimate; $100,000 to $149,999', -0.65902632652875215),\n",
       " ('property_type: Other', -0.63919968469688082),\n",
       " ('amenities: Iron', -0.60553882243191193),\n",
       " ('instant_bookable: t', -0.55740124889418119),\n",
       " ('amenities: Pets live on this property', -0.4919829561767044),\n",
       " ('minimum_nights', -0.4794787132670601),\n",
       " ('Total; Estimate; AGE - 5 to 9 years', -0.40206484407002885),\n",
       " ('amenities: Private entrance', -0.40176111384833041),\n",
       " ('amenities: Family/kid friendly', -0.36448162918321775),\n",
       " ('amenities: Hair dryer', -0.36019363241644392),\n",
       " ('amenities: Cat(s)', -0.32546759079083093),\n",
       " ('Households; Estimate; $50,000 to $74,999', -0.2930070878166714),\n",
       " ('amenities: Air conditioning', -0.17507350909384256),\n",
       " ('number_of_reviews', -0.10822110208279356),\n",
       " ('amenities: Cable TV', -0.046923006579987846),\n",
       " ('real_estate_growth_5_years', -0.01805942195605963),\n",
       " ('day', -0.017753185638031261),\n",
       " ('listing_id', -5.0313103405830935e-07),\n",
       " ('maximum_nights', -2.8960287008853249e-08),\n",
       " ('host_total_listings_count', 0.0),\n",
       " ('amenities: ', -0.0),\n",
       " ('amenities:  smooth pathway to front door', 0.0),\n",
       " ('amenities: 24-Hour Check-in', -0.0),\n",
       " ('amenities: Accessible-height bed', 0.0),\n",
       " ('amenities: Accessible-height toilet', -0.0),\n",
       " ('amenities: Air Conditioning', 0.0),\n",
       " ('amenities: Air purifier', -0.0),\n",
       " ('amenities: BBQ grill', 0.0),\n",
       " ('amenities: Baby bath', -0.0),\n",
       " ('amenities: Baby monitor', 0.0),\n",
       " ('amenities: Babysitter recommendations', 0.0),\n",
       " ('amenities: Bath towel', 0.0),\n",
       " ('amenities: Bathtub', -0.0),\n",
       " ('amenities: Bathtub with shower chair', 0.0),\n",
       " ('amenities: Beach essentials', 0.0),\n",
       " ('amenities: Beachfront', -0.0),\n",
       " ('amenities: Bed linens', 0.0),\n",
       " ('amenities: Body soap', 0.0),\n",
       " ('amenities: Breakfast', 0.0),\n",
       " ('amenities: Buzzer/Wireless Intercom', -0.0),\n",
       " ('amenities: Carbon Monoxide Detector', -0.0),\n",
       " ('amenities: Changing table', -0.0),\n",
       " ('amenities: Children’s books and toys', -0.0),\n",
       " ('amenities: Children’s dinnerware', -0.0),\n",
       " ('amenities: Cleaning before checkout', -0.0),\n",
       " ('amenities: Coffee maker', 0.0),\n",
       " ('amenities: Cooking basics', 0.0),\n",
       " ('amenities: Crib', -0.0),\n",
       " ('amenities: Disabled parking spot', -0.0),\n",
       " ('amenities: Dishes and silverware', 0.0),\n",
       " ('amenities: Dishwasher', 0.0),\n",
       " ('amenities: Dog(s)', 0.0),\n",
       " ('amenities: Doorman', 0.0),\n",
       " ('amenities: Doorman Entry', 0.0),\n",
       " ('amenities: Dryer', 0.0),\n",
       " ('amenities: EV charger', -0.0),\n",
       " ('amenities: Elevator in Building', -0.0),\n",
       " ('amenities: Essentials', 0.0),\n",
       " ('amenities: Ethernet connection', 0.0),\n",
       " ('amenities: Extra pillows and blankets', 0.0),\n",
       " ('amenities: Fire Extinguisher', -0.0),\n",
       " ('amenities: Fire extinguisher', 0.0),\n",
       " ('amenities: Fireplace guards', -0.0),\n",
       " ('amenities: Firm matress', -0.0),\n",
       " ('amenities: Firm mattress', 0.0),\n",
       " ('amenities: Fixed grab bars for shower & toilet', 0.0),\n",
       " ('amenities: Flat', 0.0),\n",
       " ('amenities: Flat smooth pathway to front door', -0.0),\n",
       " ('amenities: Free parking on street', -0.0),\n",
       " ('amenities: Game console', 0.0),\n",
       " ('amenities: Garden or backyard', -0.0),\n",
       " ('amenities: Grab-rails for shower and toilet', -0.0),\n",
       " ('amenities: Ground floor access', -0.0),\n",
       " ('amenities: Gym', 0.0),\n",
       " ('amenities: Hair Dryer', 0.0),\n",
       " ('amenities: Hand or paper towel', 0.0),\n",
       " ('amenities: Hand soap', 0.0),\n",
       " ('amenities: Handheld shower head', -0.0),\n",
       " ('amenities: Hangers', -0.0),\n",
       " ('amenities: Heating', -0.0),\n",
       " ('amenities: High chair', -0.0),\n",
       " ('amenities: Host greets you', 0.0),\n",
       " ('amenities: Hot Tub', 0.0),\n",
       " ('amenities: Hot tub', 0.0),\n",
       " ('amenities: Hot water', -0.0),\n",
       " ('amenities: Hot water kettle', -0.0),\n",
       " ('amenities: Indoor Fireplace', 0.0),\n",
       " ('amenities: Indoor fireplace', 0.0),\n",
       " ('amenities: Internet', -0.0),\n",
       " ('amenities: Kitchen', 0.0),\n",
       " ('amenities: Lake access', 0.0),\n",
       " ('amenities: Laptop Friendly Workspace', -0.0),\n",
       " ('amenities: Lock on Bedroom Door', -0.0),\n",
       " ('amenities: Lock on bedroom door', -0.0),\n",
       " ('amenities: Lockbox', 0.0),\n",
       " ('amenities: Long term stays allowed', 0.0),\n",
       " ('amenities: Luggage dropoff allowed', -0.0),\n",
       " ('amenities: Microwave', 0.0),\n",
       " ('amenities: Other', 0.0),\n",
       " ('amenities: Other pet(s)', -0.0),\n",
       " ('amenities: Outlet covers', 0.0),\n",
       " ('amenities: Oven', 0.0),\n",
       " ('amenities: Pack ’n Play/travel crib', 0.0),\n",
       " ('amenities: Paid parking off premises', 0.0),\n",
       " ('amenities: Path to entrance lit at night', -0.0),\n",
       " ('amenities: Patio or balcony', 0.0),\n",
       " ('amenities: Pets Allowed', 0.0),\n",
       " ('amenities: Pocket wifi', -0.0),\n",
       " ('amenities: Private bathroom', -0.0),\n",
       " ('amenities: Private living room', 0.0),\n",
       " ('amenities: Roll-in shower with chair', 0.0),\n",
       " ('amenities: Roll-in shower with shower bench or chair', 0.0),\n",
       " ('amenities: Room-darkening shades', -0.0),\n",
       " ('amenities: Safety card', -0.0),\n",
       " ('amenities: Single level home', -0.0),\n",
       " ('amenities: Ski in/Ski out', 0.0),\n",
       " ('amenities: Smartlock', -0.0),\n",
       " ('amenities: Smoke detector', -0.0),\n",
       " ('amenities: Smoking Allowed', 0.0),\n",
       " ('amenities: Smoking allowed', 0.0),\n",
       " ('amenities: Stair gates', 0.0),\n",
       " ('amenities: Step-free access', 0.0),\n",
       " ('amenities: Suitable for Events', -0.0),\n",
       " ('amenities: Table corner guards', -0.0),\n",
       " ('amenities: Toilet paper', 0.0),\n",
       " ('amenities: Tub with shower bench', 0.0),\n",
       " ('amenities: Washer / Dryer', 0.0),\n",
       " ('amenities: Waterfront', 0.0),\n",
       " ('amenities: Well-lit path to entrance', 0.0),\n",
       " ('amenities: Wheelchair Accessible', 0.0),\n",
       " ('amenities: Wide clearance to bed', 0.0),\n",
       " ('amenities: Wide clearance to shower & toilet', 0.0),\n",
       " ('amenities: Wide clearance to shower and toilet', -0.0),\n",
       " ('amenities: Wide doorway', 0.0),\n",
       " ('amenities: Wide entryway', 0.0),\n",
       " ('amenities: Wide hallway clearance', -0.0),\n",
       " ('amenities: Window guards', 0.0),\n",
       " ('amenities: translation missing: en.hosting_amenity_49', -0.0),\n",
       " ('amenities: translation missing: en.hosting_amenity_50', -0.0),\n",
       " ('bed_type: Airbed', 0.0),\n",
       " ('bed_type: Couch', 0.0),\n",
       " ('bed_type: Futon', -0.0),\n",
       " ('bed_type: Pull-out Sofa', -0.0),\n",
       " ('bed_type: Real Bed', 0.0),\n",
       " ('cancellation_policy: flexible', -0.0),\n",
       " ('cancellation_policy: moderate', -0.0),\n",
       " ('cancellation_policy: no_refunds', -0.0),\n",
       " ('cancellation_policy: super_strict_30', -0.0),\n",
       " ('cancellation_policy: super_strict_60', 0.0),\n",
       " ('room_type: Private room', 0.0),\n",
       " ('state: IL', 0.0),\n",
       " ('state: MD', 0.0),\n",
       " ('state: MP', 0.0),\n",
       " ('state: OR', -0.0),\n",
       " ('state: WA', 0.0),\n",
       " ('host_response_time: a few days or more', -0.0),\n",
       " ('host_response_time: within an hour', 0.0),\n",
       " ('property_type: Apartment', -0.0),\n",
       " ('property_type: Bed & Breakfast', 0.0),\n",
       " ('property_type: Boat', -0.0),\n",
       " ('property_type: Boutique hotel', -0.0),\n",
       " ('property_type: Cabin', -0.0),\n",
       " ('property_type: Camper/RV', -0.0),\n",
       " ('property_type: Castle', 0.0),\n",
       " ('property_type: Cave', 0.0),\n",
       " ('property_type: Chalet', -0.0),\n",
       " ('property_type: Dorm', 0.0),\n",
       " ('property_type: Earth House', -0.0),\n",
       " ('property_type: Guest suite', 0.0),\n",
       " ('property_type: Hostel', 0.0),\n",
       " ('property_type: House', -0.0),\n",
       " ('property_type: Hut', -0.0),\n",
       " ('property_type: In-law', 0.0),\n",
       " ('property_type: Island', -0.0),\n",
       " ('property_type: Loft', 0.0),\n",
       " ('property_type: Plane', 0.0),\n",
       " ('property_type: Serviced apartment', 0.0),\n",
       " ('property_type: Tent', 0.0),\n",
       " ('property_type: Timeshare', -0.0),\n",
       " ('property_type: Tipi', 0.0),\n",
       " ('property_type: Townhouse', 0.0),\n",
       " ('property_type: Train', 0.0),\n",
       " ('property_type: Treehouse', 0.0),\n",
       " ('property_type: Vacation home', -0.0),\n",
       " ('property_type: Villa', -0.0),\n",
       " ('property_type: Yurt', 0.0),\n",
       " ('Total; Estimate; AGE - 45 to 49 years', -0.0),\n",
       " ('Households; Estimate; Less than $10,000', 0.0),\n",
       " ('Total; Estimate; Total population', 6.6653995964026177e-05),\n",
       " ('availability_365', 0.0093051004553635908),\n",
       " ('Total; Estimate; AGE - 65 to 69 years', 0.013773130736536701),\n",
       " ('real_estate_today', 0.02024301693754307),\n",
       " ('Total; Estimate; AGE - 50 to 54 years', 0.07402582556872514),\n",
       " ('host_listings_count', 0.095406051058144592),\n",
       " ('availability_60', 0.11399251904501009),\n",
       " ('amenities: First Aid Kit', 0.1237173930880872),\n",
       " ('amenities: Buzzer/wireless intercom', 0.1266308511365668),\n",
       " ('extra_people', 0.14400076681211935),\n",
       " ('availability_90', 0.21389598140887195),\n",
       " ('Total; Estimate; AGE - 30 to 34 years', 0.23853919767438808),\n",
       " ('week', 0.35294339740391534),\n",
       " ('amenities: TV', 0.38979085462815621),\n",
       " ('amenities: Carbon monoxide detector', 0.40093963425430529),\n",
       " ('availability_30', 0.45325478211116571),\n",
       " ('amenities: Smart lock', 0.50372597112137252),\n",
       " ('amenities: Elevator', 0.60889997949472729),\n",
       " ('Total; Estimate; AGE - 55 to 59 years', 0.63190273559102361),\n",
       " ('beds', 0.64839551914333915),\n",
       " ('Households; Estimate; $150,000 to $199,999', 0.67082999079513606),\n",
       " ('host_response_time: within a few hours', 0.76334379595127777),\n",
       " ('cancellation_policy: strict', 0.81738108648095675),\n",
       " ('Households; Estimate; $10,000 to $14,999', 0.87992440261252602),\n",
       " ('amenities: Stove', 0.88819667839633554),\n",
       " ('month', 0.97981873619412474),\n",
       " ('amenities: Pets allowed', 0.9814521581222142),\n",
       " ('amenities: Laptop friendly workspace', 0.99663712541194738),\n",
       " ('amenities: Wireless Internet', 1.0791067568617845),\n",
       " ('property_type: Bungalow', 1.2235127743966356),\n",
       " ('Total; Estimate; AGE - 15 to 19 years', 1.4919931035378458),\n",
       " ('amenities: Suitable for events', 1.5348966637834378),\n",
       " ('room_type: Entire home/apt', 1.5566317786854915),\n",
       " ('amenities: Free Parking on Premises', 1.6421383897562578),\n",
       " ('Total; Estimate; AGE - 25 to 29 years', 1.7092104433866688),\n",
       " ('review_scores_rating', 1.948747481003515),\n",
       " ('property_type: Condominium', 1.9496366036721762),\n",
       " ('Total; Estimate; AGE - 75 to 79 years', 1.9675297948870751),\n",
       " ('amenities: Family/Kid Friendly', 2.0948661233645267),\n",
       " ('amenities: Shampoo', 2.0987893495931687),\n",
       " ('weekday', 2.3371418455498607),\n",
       " ('Households; Estimate; $200,000 or more', 2.4260529487021931),\n",
       " ('amenities: Wheelchair accessible', 2.5073020053909998),\n",
       " ('is_holiday', 2.5623883991817951),\n",
       " ('amenities: Elevator in building', 2.5906354283475816),\n",
       " ('Households; Estimate; $15,000 to $24,999', 3.2081403830079367),\n",
       " ('amenities: Self Check-In', 3.4823387554435152),\n",
       " ('Total; Estimate; AGE - 80 to 84 years', 3.7762640165305879),\n",
       " ('review_scores_accuracy', 3.8025271222410342),\n",
       " ('amenities: Refrigerator', 4.2863642734087879),\n",
       " ('amenities: Smoke Detector', 5.0785062530210023),\n",
       " ('state: DC', 5.1943603456065324),\n",
       " ('guests_included', 5.5057186322855358),\n",
       " ('review_scores_location', 8.9147336395001879),\n",
       " ('review_scores_cleanliness', 9.6670291630580678),\n",
       " ('accommodates', 19.21148010746511),\n",
       " ('year', 23.425093406280077),\n",
       " ('state: TX', 27.015993073145182),\n",
       " ('state: MA', 27.689153007623176),\n",
       " ('state: NC', 33.696941349422694),\n",
       " ('bedrooms', 44.752395343782197),\n",
       " ('bathrooms', 57.443267111293459)]"
      ]
     },
     "execution_count": 87,
     "metadata": {},
     "output_type": "execute_result"
    }
   ],
   "source": [
    "import operator\n",
    "sorted_x = sorted(coef_dict.items(), key=operator.itemgetter(1))\n",
    "sorted_x"
   ]
  },
  {
   "cell_type": "code",
   "execution_count": 84,
   "metadata": {
    "scrolled": true
   },
   "outputs": [
    {
     "data": {
      "text/plain": [
       "['state: CO',\n",
       " 'state: TN',\n",
       " 'review_scores_value',\n",
       " 'Total; Estimate; AGE - 85 years and over',\n",
       " 'state: NY',\n",
       " 'Total; Estimate; AGE - 10 to 14 years',\n",
       " 'state: CA',\n",
       " 'state: LA',\n",
       " 'Total; Estimate; AGE - Under 5 years',\n",
       " 'Total; Estimate; AGE - 70 to 74 years',\n",
       " 'review_scores_communication',\n",
       " 'reviews_per_month',\n",
       " 'review_scores_checkin',\n",
       " 'Total; Estimate; AGE - 20 to 24 years',\n",
       " 'Total; Estimate; AGE - 40 to 44 years',\n",
       " 'Households; Estimate; $25,000 to $34,999',\n",
       " 'amenities: Safety Card',\n",
       " 'amenities: Pool',\n",
       " 'amenities: Free parking on premises',\n",
       " 'Households; Estimate; $35,000 to $49,999',\n",
       " 'room_type: Shared room',\n",
       " 'Households; Estimate; $75,000 to $99,999',\n",
       " 'amenities: Washer',\n",
       " 'amenities: Keypad',\n",
       " 'host_response_time: within a day',\n",
       " 'Total; Estimate; AGE - 60 to 64 years',\n",
       " 'Total; Estimate; AGE - 35 to 39 years',\n",
       " 'amenities: First aid kit',\n",
       " 'amenities: 24-hour check-in',\n",
       " 'host_is_superhost: t',\n",
       " 'property_type: Guesthouse',\n",
       " 'Households; Estimate; $100,000 to $149,999',\n",
       " 'property_type: Other',\n",
       " 'amenities: Iron',\n",
       " 'instant_bookable: t',\n",
       " 'amenities: Pets live on this property',\n",
       " 'minimum_nights',\n",
       " 'Total; Estimate; AGE - 5 to 9 years',\n",
       " 'amenities: Private entrance',\n",
       " 'amenities: Family/kid friendly',\n",
       " 'amenities: Hair dryer',\n",
       " 'amenities: Cat(s)',\n",
       " 'Households; Estimate; $50,000 to $74,999',\n",
       " 'amenities: Air conditioning',\n",
       " 'number_of_reviews',\n",
       " 'amenities: Cable TV',\n",
       " 'real_estate_growth_5_years',\n",
       " 'day',\n",
       " 'listing_id',\n",
       " 'maximum_nights',\n",
       " 'host_total_listings_count',\n",
       " 'amenities: ',\n",
       " 'amenities:  smooth pathway to front door',\n",
       " 'amenities: 24-Hour Check-in',\n",
       " 'amenities: Accessible-height bed',\n",
       " 'amenities: Accessible-height toilet',\n",
       " 'amenities: Air Conditioning',\n",
       " 'amenities: Air purifier',\n",
       " 'amenities: BBQ grill',\n",
       " 'amenities: Baby bath',\n",
       " 'amenities: Baby monitor',\n",
       " 'amenities: Babysitter recommendations',\n",
       " 'amenities: Bath towel',\n",
       " 'amenities: Bathtub',\n",
       " 'amenities: Bathtub with shower chair',\n",
       " 'amenities: Beach essentials',\n",
       " 'amenities: Beachfront',\n",
       " 'amenities: Bed linens',\n",
       " 'amenities: Body soap',\n",
       " 'amenities: Breakfast',\n",
       " 'amenities: Buzzer/Wireless Intercom',\n",
       " 'amenities: Carbon Monoxide Detector',\n",
       " 'amenities: Changing table',\n",
       " 'amenities: Children’s books and toys',\n",
       " 'amenities: Children’s dinnerware',\n",
       " 'amenities: Cleaning before checkout',\n",
       " 'amenities: Coffee maker',\n",
       " 'amenities: Cooking basics',\n",
       " 'amenities: Crib',\n",
       " 'amenities: Disabled parking spot',\n",
       " 'amenities: Dishes and silverware',\n",
       " 'amenities: Dishwasher',\n",
       " 'amenities: Dog(s)',\n",
       " 'amenities: Doorman',\n",
       " 'amenities: Doorman Entry',\n",
       " 'amenities: Dryer',\n",
       " 'amenities: EV charger',\n",
       " 'amenities: Elevator in Building',\n",
       " 'amenities: Essentials',\n",
       " 'amenities: Ethernet connection',\n",
       " 'amenities: Extra pillows and blankets',\n",
       " 'amenities: Fire Extinguisher',\n",
       " 'amenities: Fire extinguisher',\n",
       " 'amenities: Fireplace guards',\n",
       " 'amenities: Firm matress',\n",
       " 'amenities: Firm mattress',\n",
       " 'amenities: Fixed grab bars for shower & toilet',\n",
       " 'amenities: Flat',\n",
       " 'amenities: Flat smooth pathway to front door',\n",
       " 'amenities: Free parking on street',\n",
       " 'amenities: Game console',\n",
       " 'amenities: Garden or backyard',\n",
       " 'amenities: Grab-rails for shower and toilet',\n",
       " 'amenities: Ground floor access',\n",
       " 'amenities: Gym',\n",
       " 'amenities: Hair Dryer',\n",
       " 'amenities: Hand or paper towel',\n",
       " 'amenities: Hand soap',\n",
       " 'amenities: Handheld shower head',\n",
       " 'amenities: Hangers',\n",
       " 'amenities: Heating',\n",
       " 'amenities: High chair',\n",
       " 'amenities: Host greets you',\n",
       " 'amenities: Hot Tub',\n",
       " 'amenities: Hot tub',\n",
       " 'amenities: Hot water',\n",
       " 'amenities: Hot water kettle',\n",
       " 'amenities: Indoor Fireplace',\n",
       " 'amenities: Indoor fireplace',\n",
       " 'amenities: Internet',\n",
       " 'amenities: Kitchen',\n",
       " 'amenities: Lake access',\n",
       " 'amenities: Laptop Friendly Workspace',\n",
       " 'amenities: Lock on Bedroom Door',\n",
       " 'amenities: Lock on bedroom door',\n",
       " 'amenities: Lockbox',\n",
       " 'amenities: Long term stays allowed',\n",
       " 'amenities: Luggage dropoff allowed',\n",
       " 'amenities: Microwave',\n",
       " 'amenities: Other',\n",
       " 'amenities: Other pet(s)',\n",
       " 'amenities: Outlet covers',\n",
       " 'amenities: Oven',\n",
       " 'amenities: Pack ’n Play/travel crib',\n",
       " 'amenities: Paid parking off premises',\n",
       " 'amenities: Path to entrance lit at night',\n",
       " 'amenities: Patio or balcony',\n",
       " 'amenities: Pets Allowed',\n",
       " 'amenities: Pocket wifi',\n",
       " 'amenities: Private bathroom',\n",
       " 'amenities: Private living room',\n",
       " 'amenities: Roll-in shower with chair',\n",
       " 'amenities: Roll-in shower with shower bench or chair',\n",
       " 'amenities: Room-darkening shades',\n",
       " 'amenities: Safety card',\n",
       " 'amenities: Single level home',\n",
       " 'amenities: Ski in/Ski out',\n",
       " 'amenities: Smartlock',\n",
       " 'amenities: Smoke detector',\n",
       " 'amenities: Smoking Allowed',\n",
       " 'amenities: Smoking allowed',\n",
       " 'amenities: Stair gates',\n",
       " 'amenities: Step-free access',\n",
       " 'amenities: Suitable for Events',\n",
       " 'amenities: Table corner guards',\n",
       " 'amenities: Toilet paper',\n",
       " 'amenities: Tub with shower bench',\n",
       " 'amenities: Washer / Dryer',\n",
       " 'amenities: Waterfront',\n",
       " 'amenities: Well-lit path to entrance',\n",
       " 'amenities: Wheelchair Accessible',\n",
       " 'amenities: Wide clearance to bed',\n",
       " 'amenities: Wide clearance to shower & toilet',\n",
       " 'amenities: Wide clearance to shower and toilet',\n",
       " 'amenities: Wide doorway',\n",
       " 'amenities: Wide entryway',\n",
       " 'amenities: Wide hallway clearance',\n",
       " 'amenities: Window guards',\n",
       " 'amenities: translation missing: en.hosting_amenity_49',\n",
       " 'amenities: translation missing: en.hosting_amenity_50',\n",
       " 'bed_type: Airbed',\n",
       " 'bed_type: Couch',\n",
       " 'bed_type: Futon',\n",
       " 'bed_type: Pull-out Sofa',\n",
       " 'bed_type: Real Bed',\n",
       " 'cancellation_policy: flexible',\n",
       " 'cancellation_policy: moderate',\n",
       " 'cancellation_policy: no_refunds',\n",
       " 'cancellation_policy: super_strict_30',\n",
       " 'cancellation_policy: super_strict_60',\n",
       " 'room_type: Private room',\n",
       " 'state: IL',\n",
       " 'state: MD',\n",
       " 'state: MP',\n",
       " 'state: OR',\n",
       " 'state: WA',\n",
       " 'host_response_time: a few days or more',\n",
       " 'host_response_time: within an hour',\n",
       " 'property_type: Apartment',\n",
       " 'property_type: Bed & Breakfast',\n",
       " 'property_type: Boat',\n",
       " 'property_type: Boutique hotel',\n",
       " 'property_type: Cabin',\n",
       " 'property_type: Camper/RV',\n",
       " 'property_type: Castle',\n",
       " 'property_type: Cave',\n",
       " 'property_type: Chalet',\n",
       " 'property_type: Dorm',\n",
       " 'property_type: Earth House',\n",
       " 'property_type: Guest suite',\n",
       " 'property_type: Hostel',\n",
       " 'property_type: House',\n",
       " 'property_type: Hut',\n",
       " 'property_type: In-law',\n",
       " 'property_type: Island',\n",
       " 'property_type: Loft',\n",
       " 'property_type: Plane',\n",
       " 'property_type: Serviced apartment',\n",
       " 'property_type: Tent',\n",
       " 'property_type: Timeshare',\n",
       " 'property_type: Tipi',\n",
       " 'property_type: Townhouse',\n",
       " 'property_type: Train',\n",
       " 'property_type: Treehouse',\n",
       " 'property_type: Vacation home',\n",
       " 'property_type: Villa',\n",
       " 'property_type: Yurt',\n",
       " 'Total; Estimate; AGE - 45 to 49 years',\n",
       " 'Households; Estimate; Less than $10,000',\n",
       " 'Total; Estimate; Total population',\n",
       " 'availability_365',\n",
       " 'Total; Estimate; AGE - 65 to 69 years',\n",
       " 'real_estate_today',\n",
       " 'Total; Estimate; AGE - 50 to 54 years',\n",
       " 'host_listings_count',\n",
       " 'availability_60',\n",
       " 'amenities: First Aid Kit',\n",
       " 'amenities: Buzzer/wireless intercom',\n",
       " 'extra_people',\n",
       " 'availability_90',\n",
       " 'Total; Estimate; AGE - 30 to 34 years',\n",
       " 'week',\n",
       " 'amenities: TV',\n",
       " 'amenities: Carbon monoxide detector',\n",
       " 'availability_30',\n",
       " 'amenities: Smart lock',\n",
       " 'amenities: Elevator',\n",
       " 'Total; Estimate; AGE - 55 to 59 years',\n",
       " 'beds',\n",
       " 'Households; Estimate; $150,000 to $199,999',\n",
       " 'host_response_time: within a few hours',\n",
       " 'cancellation_policy: strict',\n",
       " 'Households; Estimate; $10,000 to $14,999',\n",
       " 'amenities: Stove',\n",
       " 'month',\n",
       " 'amenities: Pets allowed',\n",
       " 'amenities: Laptop friendly workspace',\n",
       " 'amenities: Wireless Internet',\n",
       " 'property_type: Bungalow',\n",
       " 'Total; Estimate; AGE - 15 to 19 years',\n",
       " 'amenities: Suitable for events',\n",
       " 'room_type: Entire home/apt',\n",
       " 'amenities: Free Parking on Premises',\n",
       " 'Total; Estimate; AGE - 25 to 29 years',\n",
       " 'review_scores_rating',\n",
       " 'property_type: Condominium',\n",
       " 'Total; Estimate; AGE - 75 to 79 years',\n",
       " 'amenities: Family/Kid Friendly',\n",
       " 'amenities: Shampoo',\n",
       " 'weekday',\n",
       " 'Households; Estimate; $200,000 or more',\n",
       " 'amenities: Wheelchair accessible',\n",
       " 'is_holiday',\n",
       " 'amenities: Elevator in building',\n",
       " 'Households; Estimate; $15,000 to $24,999',\n",
       " 'amenities: Self Check-In',\n",
       " 'Total; Estimate; AGE - 80 to 84 years',\n",
       " 'review_scores_accuracy',\n",
       " 'amenities: Refrigerator',\n",
       " 'amenities: Smoke Detector',\n",
       " 'state: DC',\n",
       " 'guests_included',\n",
       " 'review_scores_location',\n",
       " 'review_scores_cleanliness',\n",
       " 'accommodates',\n",
       " 'year',\n",
       " 'state: TX',\n",
       " 'state: MA',\n",
       " 'state: NC',\n",
       " 'bedrooms',\n",
       " 'bathrooms']"
      ]
     },
     "execution_count": 84,
     "metadata": {},
     "output_type": "execute_result"
    }
   ],
   "source": [
    "sorted(coef_dict, key=coef_dict.get)"
   ]
  },
  {
   "cell_type": "markdown",
   "metadata": {},
   "source": [
    "### Grid Search CV for LR with Lasso"
   ]
  },
  {
   "cell_type": "code",
   "execution_count": 180,
   "metadata": {},
   "outputs": [
    {
     "data": {
      "text/plain": [
       "{'alpha': [0.1, 1, 10]}"
      ]
     },
     "execution_count": 180,
     "metadata": {},
     "output_type": "execute_result"
    }
   ],
   "source": [
    "param_lasso = {'alpha': [0.1, 1, 10]}\n",
    "param_lasso"
   ]
  },
  {
   "cell_type": "code",
   "execution_count": 181,
   "metadata": {
    "collapsed": true
   },
   "outputs": [],
   "source": [
    "lasso_reg = linear_model.Lasso(max_iter = 100000)"
   ]
  },
  {
   "cell_type": "code",
   "execution_count": 184,
   "metadata": {
    "collapsed": true
   },
   "outputs": [],
   "source": [
    "grid_lasso = GridSearchCV(lasso_reg, \n",
    "                          param_lasso, \n",
    "                          cv = custom_cv,\n",
    "                          scoring = \"neg_mean_squared_error\")"
   ]
  },
  {
   "cell_type": "markdown",
   "metadata": {},
   "source": [
    "DeprecationWarning: Scoring method mean_squared_error was renamed to neg_mean_squared_error in version 0.18 and will be removed in 0.20\n",
    "\n",
    "GridSearchCV, by convention, always tries to maximize its score so loss functions like MSE have to be negated."
   ]
  },
  {
   "cell_type": "code",
   "execution_count": null,
   "metadata": {
    "collapsed": true
   },
   "outputs": [],
   "source": [
    "grid_lasso.fit(train_val_df.drop(\"price\",axis=1),\n",
    "               train_val_df[\"price\"])"
   ]
  },
  {
   "cell_type": "code",
   "execution_count": 58,
   "metadata": {},
   "outputs": [
    {
     "data": {
      "text/plain": [
       "-14209.247074593983"
      ]
     },
     "execution_count": 58,
     "metadata": {},
     "output_type": "execute_result"
    }
   ],
   "source": [
    "grid_lasso.best_score_"
   ]
  },
  {
   "cell_type": "markdown",
   "metadata": {},
   "source": [
    "A non-negative floating point value (the best value is 0.0), or an array of floating point values, one for each individual target."
   ]
  },
  {
   "cell_type": "code",
   "execution_count": 59,
   "metadata": {},
   "outputs": [
    {
     "data": {
      "text/plain": [
       "Lasso(alpha=0.25, copy_X=True, fit_intercept=True, max_iter=100000,\n",
       "   normalize=False, positive=False, precompute=False, random_state=None,\n",
       "   selection='cyclic', tol=0.0001, warm_start=False)"
      ]
     },
     "execution_count": 59,
     "metadata": {},
     "output_type": "execute_result"
    }
   ],
   "source": [
    "grid_lasso.best_estimator_"
   ]
  },
  {
   "cell_type": "code",
   "execution_count": 60,
   "metadata": {},
   "outputs": [
    {
     "data": {
      "text/plain": [
       "{'alpha': 0.25}"
      ]
     },
     "execution_count": 60,
     "metadata": {},
     "output_type": "execute_result"
    }
   ],
   "source": [
    "grid_lasso.best_params_"
   ]
  },
  {
   "cell_type": "markdown",
   "metadata": {},
   "source": [
    "## XGBoost"
   ]
  },
  {
   "cell_type": "code",
   "execution_count": 23,
   "metadata": {
    "collapsed": true
   },
   "outputs": [],
   "source": [
    "import xgboost as xgb"
   ]
  },
  {
   "cell_type": "code",
   "execution_count": 24,
   "metadata": {
    "collapsed": true
   },
   "outputs": [],
   "source": [
    "from xgboost import XGBRegressor"
   ]
  },
  {
   "cell_type": "markdown",
   "metadata": {},
   "source": [
    "### Single Fit for XGBoost"
   ]
  },
  {
   "cell_type": "code",
   "execution_count": 93,
   "metadata": {},
   "outputs": [
    {
     "data": {
      "text/plain": [
       "XGBRegressor(base_score=0.5, colsample_bylevel=1, colsample_bytree=1, gamma=0,\n",
       "       learning_rate=0.1, max_delta_step=0, max_depth=3,\n",
       "       min_child_weight=1, missing=None, n_estimators=100, nthread=-1,\n",
       "       objective='reg:linear', reg_alpha=0, reg_lambda=1,\n",
       "       scale_pos_weight=1, seed=0, silent=True, subsample=1)"
      ]
     },
     "execution_count": 93,
     "metadata": {},
     "output_type": "execute_result"
    }
   ],
   "source": [
    "xgb = XGBRegressor()\n",
    "xgb"
   ]
  },
  {
   "cell_type": "code",
   "execution_count": 94,
   "metadata": {
    "scrolled": true
   },
   "outputs": [
    {
     "data": {
      "text/plain": [
       "XGBRegressor(base_score=0.5, colsample_bylevel=1, colsample_bytree=1, gamma=0,\n",
       "       learning_rate=0.1, max_delta_step=0, max_depth=3,\n",
       "       min_child_weight=1, missing=None, n_estimators=100, nthread=-1,\n",
       "       objective='reg:linear', reg_alpha=0, reg_lambda=1,\n",
       "       scale_pos_weight=1, seed=0, silent=True, subsample=1)"
      ]
     },
     "execution_count": 94,
     "metadata": {},
     "output_type": "execute_result"
    }
   ],
   "source": [
    "xgb.fit(train_df.drop(\"price\",axis=1),\n",
    "        train_df[\"price\"])"
   ]
  },
  {
   "cell_type": "code",
   "execution_count": 95,
   "metadata": {},
   "outputs": [
    {
     "data": {
      "text/plain": [
       "array([  48.90805817,  141.31481934,  203.44876099, ...,  195.69056702,\n",
       "         90.83380127,   85.05639648], dtype=float32)"
      ]
     },
     "execution_count": 95,
     "metadata": {},
     "output_type": "execute_result"
    }
   ],
   "source": [
    "y_pred_xgb = xgb.predict(validate_df.drop(\"price\",axis=1))\n",
    "y_pred_xgb"
   ]
  },
  {
   "cell_type": "code",
   "execution_count": 96,
   "metadata": {},
   "outputs": [
    {
     "data": {
      "text/plain": [
       "0.67213598586220358"
      ]
     },
     "execution_count": 96,
     "metadata": {},
     "output_type": "execute_result"
    }
   ],
   "source": [
    "r2_score_xgb = skm.r2_score(validate_df[\"price\"], y_pred_xgb)\n",
    "r2_score_xgb"
   ]
  },
  {
   "cell_type": "code",
   "execution_count": 97,
   "metadata": {},
   "outputs": [
    {
     "data": {
      "text/plain": [
       "11509.385381692235"
      ]
     },
     "execution_count": 97,
     "metadata": {},
     "output_type": "execute_result"
    }
   ],
   "source": [
    "skm.mean_squared_error(y_true= validate_df[\"price\"],\n",
    "                       y_pred= y_pred_xgb)"
   ]
  },
  {
   "cell_type": "code",
   "execution_count": 61,
   "metadata": {},
   "outputs": [
    {
     "data": {
      "text/plain": [
       "0.38584839320455511"
      ]
     },
     "execution_count": 61,
     "metadata": {},
     "output_type": "execute_result"
    }
   ],
   "source": [
    "mean_abs_err(validate_df,y_pred_xgb)"
   ]
  },
  {
   "cell_type": "code",
   "execution_count": 62,
   "metadata": {},
   "outputs": [
    {
     "data": {
      "text/plain": [
       "0.28437986507524649"
      ]
     },
     "execution_count": 62,
     "metadata": {},
     "output_type": "execute_result"
    }
   ],
   "source": [
    "price_conf_int_check(validate_df=validate_df,\n",
    "                    upper_perc = 0.2,\n",
    "                    lower_perc = 0.2,\n",
    "                    y_pred = y_pred_xgb)"
   ]
  },
  {
   "cell_type": "markdown",
   "metadata": {},
   "source": [
    "### Grid Search CV for XGBoost"
   ]
  },
  {
   "cell_type": "code",
   "execution_count": 25,
   "metadata": {},
   "outputs": [
    {
     "data": {
      "text/plain": [
       "{'learning_rate': [0.1, 0.01],\n",
       " 'max_depth': [3, 10],\n",
       " 'n_estimators': [100, 200]}"
      ]
     },
     "execution_count": 25,
     "metadata": {},
     "output_type": "execute_result"
    }
   ],
   "source": [
    "#param_xgb = {'learning_rate': [0.1, 0.25, 0.5]}\n",
    "param_xgb = {'learning_rate': [0.1, 0.01],\n",
    "             'max_depth':[3,10],\n",
    "             'n_estimators':[100,200]}\n",
    "param_xgb"
   ]
  },
  {
   "cell_type": "code",
   "execution_count": 26,
   "metadata": {
    "collapsed": true
   },
   "outputs": [],
   "source": [
    "xgb = XGBRegressor()"
   ]
  },
  {
   "cell_type": "code",
   "execution_count": 27,
   "metadata": {
    "collapsed": true
   },
   "outputs": [],
   "source": [
    "grid_xgb = GridSearchCV(xgb, \n",
    "                        param_xgb, \n",
    "                        cv = custom_cv,\n",
    "                        scoring = \"neg_mean_squared_error\")"
   ]
  },
  {
   "cell_type": "code",
   "execution_count": 28,
   "metadata": {},
   "outputs": [
    {
     "data": {
      "text/plain": [
       "GridSearchCV(cv=[(array([     0,      1, ..., 902442, 902443]), array([    16,     17, ..., 902496, 902497])), (array([    16,     17, ..., 902496, 902497]), array([     0,      1, ..., 902363, 902364])), (array([     0,      1, ..., 902496, 902497]), array([   253,    254, ..., 902173, 902174])), (array([     0,      1, ..., 902496, 902497]), array([   136,    137, ..., 902413, 902414])), (array([     0,      1, ..., 902496, 902497]), array([   235,    236, ..., 902442, 902443]))],\n",
       "       error_score='raise',\n",
       "       estimator=XGBRegressor(base_score=0.5, colsample_bylevel=1, colsample_bytree=1, gamma=0,\n",
       "       learning_rate=0.1, max_delta_step=0, max_depth=3,\n",
       "       min_child_weight=1, missing=None, n_estimators=100, nthread=-1,\n",
       "       objective='reg:linear', reg_alpha=0, reg_lambda=1,\n",
       "       scale_pos_weight=1, seed=0, silent=True, subsample=1),\n",
       "       fit_params=None, iid=True, n_jobs=1,\n",
       "       param_grid={'learning_rate': [0.1, 0.01], 'max_depth': [3, 10], 'n_estimators': [100, 200]},\n",
       "       pre_dispatch='2*n_jobs', refit=True, return_train_score='warn',\n",
       "       scoring='neg_mean_squared_error', verbose=0)"
      ]
     },
     "execution_count": 28,
     "metadata": {},
     "output_type": "execute_result"
    }
   ],
   "source": [
    "grid_xgb.fit(train_val_df.drop(\"price\",axis=1),\n",
    "             train_val_df[\"price\"])"
   ]
  },
  {
   "cell_type": "code",
   "execution_count": 29,
   "metadata": {},
   "outputs": [
    {
     "data": {
      "text/plain": [
       "-514571.8145945365"
      ]
     },
     "execution_count": 29,
     "metadata": {},
     "output_type": "execute_result"
    }
   ],
   "source": [
    "grid_xgb.best_score_"
   ]
  },
  {
   "cell_type": "code",
   "execution_count": 30,
   "metadata": {},
   "outputs": [
    {
     "data": {
      "text/plain": [
       "XGBRegressor(base_score=0.5, colsample_bylevel=1, colsample_bytree=1, gamma=0,\n",
       "       learning_rate=0.01, max_delta_step=0, max_depth=3,\n",
       "       min_child_weight=1, missing=None, n_estimators=200, nthread=-1,\n",
       "       objective='reg:linear', reg_alpha=0, reg_lambda=1,\n",
       "       scale_pos_weight=1, seed=0, silent=True, subsample=1)"
      ]
     },
     "execution_count": 30,
     "metadata": {},
     "output_type": "execute_result"
    }
   ],
   "source": [
    "grid_xgb.best_estimator_"
   ]
  },
  {
   "cell_type": "code",
   "execution_count": 31,
   "metadata": {},
   "outputs": [
    {
     "data": {
      "text/plain": [
       "{'learning_rate': 0.01, 'max_depth': 3, 'n_estimators': 200}"
      ]
     },
     "execution_count": 31,
     "metadata": {},
     "output_type": "execute_result"
    }
   ],
   "source": [
    "grid_xgb.best_params_"
   ]
  },
  {
   "cell_type": "markdown",
   "metadata": {},
   "source": [
    "### Fitting the Best Model to Train + Validation Data"
   ]
  },
  {
   "cell_type": "code",
   "execution_count": 34,
   "metadata": {},
   "outputs": [
    {
     "data": {
      "text/plain": [
       "XGBRegressor(base_score=0.5, colsample_bylevel=1, colsample_bytree=1, gamma=0,\n",
       "       learning_rate=0.01, max_delta_step=0, max_depth=3,\n",
       "       min_child_weight=1, missing=None, n_estimators=200, nthread=-1,\n",
       "       objective='reg:linear', reg_alpha=0, reg_lambda=1,\n",
       "       scale_pos_weight=1, seed=0, silent=True, subsample=1)"
      ]
     },
     "execution_count": 34,
     "metadata": {},
     "output_type": "execute_result"
    }
   ],
   "source": [
    "opt_xgb = XGBRegressor(**grid_xgb.best_params_)\n",
    "opt_xgb"
   ]
  },
  {
   "cell_type": "code",
   "execution_count": 35,
   "metadata": {},
   "outputs": [
    {
     "data": {
      "text/plain": [
       "XGBRegressor(base_score=0.5, colsample_bylevel=1, colsample_bytree=1, gamma=0,\n",
       "       learning_rate=0.01, max_delta_step=0, max_depth=3,\n",
       "       min_child_weight=1, missing=None, n_estimators=200, nthread=-1,\n",
       "       objective='reg:linear', reg_alpha=0, reg_lambda=1,\n",
       "       scale_pos_weight=1, seed=0, silent=True, subsample=1)"
      ]
     },
     "execution_count": 35,
     "metadata": {},
     "output_type": "execute_result"
    }
   ],
   "source": [
    "opt_xgb.fit(train_val_df.drop(\"price\",axis=1),\n",
    "            train_val_df[\"price\"])"
   ]
  },
  {
   "cell_type": "code",
   "execution_count": 38,
   "metadata": {},
   "outputs": [
    {
     "data": {
      "text/plain": [
       "array([  70.82410431,   70.82410431,   70.82410431, ...,  104.7182312 ,\n",
       "        104.7182312 ,  104.7182312 ], dtype=float32)"
      ]
     },
     "execution_count": 38,
     "metadata": {},
     "output_type": "execute_result"
    }
   ],
   "source": [
    "y_pred_xgb_opt = opt_xgb.predict(test_df.drop(\"price\",axis=1))\n",
    "y_pred_xgb_opt"
   ]
  },
  {
   "cell_type": "code",
   "execution_count": 87,
   "metadata": {},
   "outputs": [
    {
     "data": {
      "text/plain": [
       "69.333809"
      ]
     },
     "execution_count": 87,
     "metadata": {},
     "output_type": "execute_result"
    }
   ],
   "source": [
    "min(y_pred_xgb_opt)"
   ]
  },
  {
   "cell_type": "code",
   "execution_count": 88,
   "metadata": {},
   "outputs": [
    {
     "data": {
      "text/plain": [
       "2199.0784"
      ]
     },
     "execution_count": 88,
     "metadata": {},
     "output_type": "execute_result"
    }
   ],
   "source": [
    "max(y_pred_xgb_opt)"
   ]
  },
  {
   "cell_type": "code",
   "execution_count": 39,
   "metadata": {},
   "outputs": [
    {
     "data": {
      "text/plain": [
       "22797.470194279438"
      ]
     },
     "execution_count": 39,
     "metadata": {},
     "output_type": "execute_result"
    }
   ],
   "source": [
    "skm.mean_squared_error(y_true= test_df[\"price\"],\n",
    "                       y_pred= y_pred_xgb_opt)"
   ]
  },
  {
   "cell_type": "markdown",
   "metadata": {},
   "source": [
    "## Linear Regression - Baseline Model"
   ]
  },
  {
   "cell_type": "code",
   "execution_count": 121,
   "metadata": {},
   "outputs": [
    {
     "data": {
      "text/plain": [
       "LinearRegression(copy_X=True, fit_intercept=True, n_jobs=-1, normalize=False)"
      ]
     },
     "execution_count": 121,
     "metadata": {},
     "output_type": "execute_result"
    }
   ],
   "source": [
    "linreg = linear_model.LinearRegression(n_jobs=-1)\n",
    "linreg"
   ]
  },
  {
   "cell_type": "code",
   "execution_count": 122,
   "metadata": {},
   "outputs": [
    {
     "data": {
      "text/plain": [
       "LinearRegression(copy_X=True, fit_intercept=True, n_jobs=-1, normalize=False)"
      ]
     },
     "execution_count": 122,
     "metadata": {},
     "output_type": "execute_result"
    }
   ],
   "source": [
    "linreg.fit(X = train_df.drop(\"price\",axis=1),\n",
    "           y = train_df[\"price\"])"
   ]
  },
  {
   "cell_type": "code",
   "execution_count": 123,
   "metadata": {
    "scrolled": true
   },
   "outputs": [
    {
     "data": {
      "text/plain": [
       "array([  1.96841592e+01,   4.94718800e-01,   9.33105838e-03,\n",
       "         5.79997504e-02,   2.58641138e-01,   5.64408590e+01,\n",
       "         4.47867048e+01,   1.79056006e+00,   5.13162758e-02,\n",
       "         3.92018546e+00,  -5.81461766e+05,   5.81461867e+05,\n",
       "        -6.47794359e-07,  -2.36714968e-08,  -3.91980712e-01,\n",
       "        -1.18365742e-01,   3.13808995e+00,  -2.23152083e+00,\n",
       "         9.58654086e+00,  -5.21081435e+00,   9.50583157e+00,\n",
       "         1.91309957e+00,  -1.65081226e+01,  -2.39093686e+00,\n",
       "        -7.29080719e+00,  -1.70335531e+00,  -3.05900553e+00,\n",
       "         1.60298062e-01,   3.96410754e+00,  -1.40866695e+00,\n",
       "        -8.23409047e-01,  -3.73432375e+00,  -4.60844919e+01,\n",
       "         2.05029942e+00,   8.09690751e-01,  -1.22372644e+01,\n",
       "         7.33111294e+00,   2.89151837e-04,  -1.43806851e+00,\n",
       "         4.39308842e+00,  -1.21592963e+01,   1.70983542e-01,\n",
       "         1.18071666e+01,  -5.36052154e-04,  -1.97082558e+00,\n",
       "         1.58075686e+00,   2.80365978e+00,   6.72137902e-01,\n",
       "        -1.45005281e+00,   1.66710188e-01,   2.54908619e-01,\n",
       "        -3.31640587e+00,   1.19605501e+00,  -6.06398086e+00,\n",
       "         3.13940009e+00,   6.32944842e+00,  -3.99816453e+00,\n",
       "        -1.55898792e+01,  -2.33054756e+01,  -1.38246913e+01,\n",
       "         1.06843230e+01,   8.77282392e-02,   4.15689412e-01,\n",
       "         4.82642783e+00,   7.49918428e+00,  -3.03896982e+01,\n",
       "         4.09124366e+00,   1.25438704e+00,   4.32200150e+00,\n",
       "         9.50523017e-01,   5.57017096e+00,   6.29941074e-01,\n",
       "         1.54639695e+00,  -2.45837741e+00,  -1.25913637e+00,\n",
       "         1.42028031e+00,  -1.52620979e+01,  -2.66881026e+00,\n",
       "         1.02871506e+01,   3.22609886e+00,  -7.17905618e-01,\n",
       "        -8.49437786e+00,  -1.71734201e+00,  -2.45764895e+01,\n",
       "         9.07071467e-02,  -2.28929339e+00,  -2.10837022e+01,\n",
       "         5.22835419e+00,  -1.27762393e-01,  -3.34858173e+01,\n",
       "        -6.83665506e+01,  -1.33915889e+00,   3.85778318e+00,\n",
       "         3.11707436e-01,   1.49134328e-05,   3.82524581e-05,\n",
       "        -7.53153158e-01,   7.47887548e-01,  -1.85964641e+00,\n",
       "        -1.24498267e+00,  -5.20392469e+00,   4.34747148e+00,\n",
       "        -1.19550566e+00,  -8.75372085e+00,  -1.40026871e+01,\n",
       "         5.42970158e-01,  -1.51163280e+00,   2.29143981e+00,\n",
       "        -2.18712306e+00,   1.84480752e+00,   6.62169392e-01,\n",
       "        -4.17768839e+01,  -7.75119654e-01,  -6.46604426e-01,\n",
       "        -4.42674262e+00,   2.60238369e-01,   2.02449561e+00,\n",
       "         2.63112248e+00,  -9.91932845e+00,  -5.75660851e+00,\n",
       "        -1.38460857e+01,  -6.87871335e+00,  -8.16128059e+00,\n",
       "         1.03764860e+01,   4.01677827e+00,   2.43280623e+01,\n",
       "        -1.75466598e+01,   5.92484053e+00,   3.97995264e-01,\n",
       "         1.51407048e+00,   1.82261723e+00,  -1.32502236e+01,\n",
       "        -9.43296281e-01,   1.01393875e+00,  -2.84032897e+00,\n",
       "         1.04041603e+00,   1.26650979e+01,  -1.87353950e+00,\n",
       "         5.62145273e-07,  -2.53628210e+00,  -7.43434201e+00,\n",
       "        -3.06829324e-01,   1.86187361e+00,   1.92703794e+00,\n",
       "        -1.06786760e+01,   2.68346004e+01,   8.69114298e+00,\n",
       "         3.05106059e+00,   4.84944009e+00,   7.83081498e-01,\n",
       "         2.97237057e+00,   2.02084958e+00,   1.85516423e+01,\n",
       "         7.77499336e+00,  -2.96792231e+00,  -2.35121352e+00,\n",
       "         3.00215538e+00,  -8.89110523e-01,   4.60146980e+00,\n",
       "         5.68329693e-07,   1.60524162e+02,  -9.51109359e+00,\n",
       "         2.88794905e+01,  -1.38700337e+00,  -1.42280600e+00,\n",
       "         3.80529462e+00,   2.23922296e+00,  -7.20359974e+00,\n",
       "         2.36995199e+01,   4.50652089e+01,   8.53006656e+00,\n",
       "         8.17964095e+00,  -1.43748504e+01,   4.66637134e+00,\n",
       "         3.93782109e+00,  -8.15013217e-01,   3.39310981e-01,\n",
       "         1.77954241e+00,   6.42426363e+00,  -4.58701595e+00,\n",
       "        -4.31117918e+00,   7.08658262e-01,  -2.52612709e-01,\n",
       "         8.41988242e-01,  -1.22216344e+01,   7.07290129e-02,\n",
       "         5.55162478e+00,   6.12365907e+00,   4.72307124e+00,\n",
       "         9.37986929e-01,  -5.74918090e+00,  -7.42096625e+00,\n",
       "        -2.89796019e+01,   1.56112833e+01,  -1.40926921e+00,\n",
       "        -1.17989204e+01,   4.17354319e+01,  -2.61903709e+01,\n",
       "        -5.27914856e+00,   3.64425177e+01,  -1.15643789e+01,\n",
       "         2.54855278e-01,  -2.86540302e+01,   3.22533352e+01,\n",
       "        -5.01518814e+00,  -1.57698006e+00,  -2.91606775e-01,\n",
       "         1.17682205e+00,   6.83384321e-01,  -1.34948836e+00,\n",
       "         2.26129862e+00,  -2.65562450e+01,  -8.28746920e+00,\n",
       "         1.51052518e+01,  -1.95099795e+01,   6.62110732e+00,\n",
       "        -5.07112604e-01,   7.37389153e+00,   6.37786852e+01,\n",
       "         1.54556519e+00,   2.10318731e+00,  -1.87708199e+01,\n",
       "         8.23834526e+00,  -6.43601246e+00,   1.02868211e+01,\n",
       "        -2.76143125e+00,  -8.89507260e+01,  -6.43538883e-01,\n",
       "        -1.81662651e+02,   7.19675115e+00,  -1.38722970e+01,\n",
       "         2.01929768e+01,   6.13759289e+00,   7.90126850e+01,\n",
       "         1.00470675e+01,   1.60055065e+01,  -3.03154147e+00,\n",
       "         1.45915173e+01,   8.36650270e+01,   2.21495238e+01,\n",
       "        -8.31762088e+00,   4.39398943e+00,  -3.77567791e-01,\n",
       "        -2.07064061e-03,  -2.96948936e-05,  -2.59184738e+01,\n",
       "        -2.27334790e+01,  -2.86473053e+01,  -2.14845339e+01,\n",
       "        -2.45966373e+01,  -2.12486364e+01,  -2.17282053e+01,\n",
       "        -2.42008594e+01,  -2.47600235e+01,  -2.28646009e+01,\n",
       "        -2.24184433e+01,  -2.11585196e+01,  -2.73889978e+01,\n",
       "        -1.98699710e+01,  -2.59491442e+01,  -2.03837273e+01,\n",
       "        -1.05859120e+01,  -3.89101851e+01,  -5.94760942e+00,\n",
       "        -5.55049974e+00,  -3.22497416e+00,  -7.38247921e+00,\n",
       "        -8.96881757e+00,  -6.98472008e+00,  -7.62944930e+00,\n",
       "        -6.14968873e+00,  -6.41982507e+00,  -3.60486481e+00,\n",
       "         4.45365189e+00,   2.34460167e+01,   9.88674198e-02,\n",
       "        -4.37448186e-01,   2.25011226e+00,   5.57321374e+00,\n",
       "         1.99681634e-02,  -1.68732925e-02])"
      ]
     },
     "execution_count": 123,
     "metadata": {},
     "output_type": "execute_result"
    }
   ],
   "source": [
    "linreg.coef_"
   ]
  },
  {
   "cell_type": "code",
   "execution_count": 124,
   "metadata": {},
   "outputs": [
    {
     "data": {
      "text/plain": [
       "-44632.92108926949"
      ]
     },
     "execution_count": 124,
     "metadata": {},
     "output_type": "execute_result"
    }
   ],
   "source": [
    "linreg.intercept_"
   ]
  },
  {
   "cell_type": "markdown",
   "metadata": {},
   "source": [
    "### Testing Linear Regression"
   ]
  },
  {
   "cell_type": "code",
   "execution_count": 130,
   "metadata": {},
   "outputs": [
    {
     "data": {
      "text/plain": [
       "array([ 222.01962665,   88.60842779,  128.27681623, ...,  422.62179021,\n",
       "        121.46605026,   84.08537915])"
      ]
     },
     "execution_count": 130,
     "metadata": {},
     "output_type": "execute_result"
    }
   ],
   "source": [
    "y_pred_linreg = linreg.predict(test_df.drop(\"price\",axis=1))\n",
    "y_pred_linreg"
   ]
  },
  {
   "cell_type": "code",
   "execution_count": 136,
   "metadata": {
    "scrolled": true
   },
   "outputs": [
    {
     "data": {
      "text/plain": [
       "234653      150.0\n",
       "912128       83.0\n",
       "520614      115.0\n",
       "1025792     209.0\n",
       "169008       69.0\n",
       "502222       85.0\n",
       "10034        60.0\n",
       "412533      155.0\n",
       "907566       85.0\n",
       "471885      152.0\n",
       "759821      195.0\n",
       "812594       25.0\n",
       "997816       35.0\n",
       "525170       48.0\n",
       "1049407     200.0\n",
       "458590      295.0\n",
       "573035       68.0\n",
       "360038      115.0\n",
       "536078       78.0\n",
       "40118       125.0\n",
       "1072817      71.0\n",
       "14695       135.0\n",
       "545049      140.0\n",
       "66473        34.0\n",
       "329009      199.0\n",
       "738215       85.0\n",
       "1092928     169.0\n",
       "208314       34.0\n",
       "64411        21.0\n",
       "105694       55.0\n",
       "            ...  \n",
       "606821     1300.0\n",
       "130036      129.0\n",
       "1034962      60.0\n",
       "711696      725.0\n",
       "595033      130.0\n",
       "628997      259.0\n",
       "1102244     280.0\n",
       "916874       80.0\n",
       "663050      338.0\n",
       "607822      203.0\n",
       "359208      260.0\n",
       "313972      155.0\n",
       "926254      150.0\n",
       "172939      142.0\n",
       "71950       250.0\n",
       "518340      630.0\n",
       "448652       79.0\n",
       "859816       80.0\n",
       "668308      561.0\n",
       "942234       52.0\n",
       "957519       78.0\n",
       "659840      450.0\n",
       "526328       55.0\n",
       "888453      248.0\n",
       "747262       80.0\n",
       "681123      179.0\n",
       "576152      129.0\n",
       "589846      600.0\n",
       "754664       38.0\n",
       "593529       79.0\n",
       "Name: price, Length: 135915, dtype: float64"
      ]
     },
     "execution_count": 136,
     "metadata": {},
     "output_type": "execute_result"
    }
   ],
   "source": [
    "test_df[\"price\"]"
   ]
  },
  {
   "cell_type": "code",
   "execution_count": 131,
   "metadata": {},
   "outputs": [
    {
     "data": {
      "text/plain": [
       "14913.169213254996"
      ]
     },
     "execution_count": 131,
     "metadata": {},
     "output_type": "execute_result"
    }
   ],
   "source": [
    "skm.mean_squared_error(y_true= test_df[\"price\"],\n",
    "                       y_pred= y_pred_linreg)"
   ]
  },
  {
   "cell_type": "code",
   "execution_count": 132,
   "metadata": {},
   "outputs": [
    {
     "data": {
      "text/plain": [
       "-127.34485259756912"
      ]
     },
     "execution_count": 132,
     "metadata": {},
     "output_type": "execute_result"
    }
   ],
   "source": [
    "min(y_pred_linreg)"
   ]
  },
  {
   "cell_type": "code",
   "execution_count": 133,
   "metadata": {},
   "outputs": [
    {
     "data": {
      "text/plain": [
       "3168"
      ]
     },
     "execution_count": 133,
     "metadata": {},
     "output_type": "execute_result"
    }
   ],
   "source": [
    "(y_pred_linreg < 0).sum()"
   ]
  },
  {
   "cell_type": "code",
   "execution_count": 137,
   "metadata": {},
   "outputs": [
    {
     "data": {
      "text/plain": [
       "0.54449606953057972"
      ]
     },
     "execution_count": 137,
     "metadata": {},
     "output_type": "execute_result"
    }
   ],
   "source": [
    "mean_abs_err(test_df,y_pred_linreg)"
   ]
  },
  {
   "cell_type": "code",
   "execution_count": 138,
   "metadata": {},
   "outputs": [
    {
     "data": {
      "text/plain": [
       "0.29592760180995475"
      ]
     },
     "execution_count": 138,
     "metadata": {},
     "output_type": "execute_result"
    }
   ],
   "source": [
    "price_conf_int_check(validate_df=test_df,\n",
    "                    upper_perc = 0.2,\n",
    "                    lower_perc = 0.2,\n",
    "                    y_pred = y_pred_linreg)"
   ]
  },
  {
   "cell_type": "markdown",
   "metadata": {
    "collapsed": true
   },
   "source": [
    "## Baseline = Mean"
   ]
  },
  {
   "cell_type": "code",
   "execution_count": 96,
   "metadata": {},
   "outputs": [
    {
     "data": {
      "text/plain": [
       "35275.249229753244"
      ]
     },
     "execution_count": 96,
     "metadata": {},
     "output_type": "execute_result"
    }
   ],
   "source": [
    "skm.mean_squared_error(y_true= test_df[\"price\"],\n",
    "                       y_pred= np.ones(len(test_df[\"price\"])) * test_df[\"price\"].values.mean())"
   ]
  },
  {
   "cell_type": "code",
   "execution_count": 97,
   "metadata": {},
   "outputs": [
    {
     "data": {
      "text/plain": [
       "35447.188631247045"
      ]
     },
     "execution_count": 97,
     "metadata": {},
     "output_type": "execute_result"
    }
   ],
   "source": [
    "skm.mean_squared_error(y_true= train_df[\"price\"],\n",
    "                       y_pred= np.ones(len(train_df[\"price\"])) * train_df[\"price\"].values.mean())"
   ]
  },
  {
   "cell_type": "code",
   "execution_count": null,
   "metadata": {
    "collapsed": true
   },
   "outputs": [],
   "source": []
  }
 ],
 "metadata": {
  "kernelspec": {
   "display_name": "Python 3",
   "language": "python",
   "name": "python3"
  },
  "language_info": {
   "codemirror_mode": {
    "name": "ipython",
    "version": 3
   },
   "file_extension": ".py",
   "mimetype": "text/x-python",
   "name": "python",
   "nbconvert_exporter": "python",
   "pygments_lexer": "ipython3",
   "version": "3.6.1"
  }
 },
 "nbformat": 4,
 "nbformat_minor": 2
}
