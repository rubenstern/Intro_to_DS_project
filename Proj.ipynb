{
 "cells": [
  {
   "cell_type": "markdown",
   "metadata": {},
   "source": [
    "Inside Airbnb available data by city:\n",
    "\n",
    "http://insideairbnb.com/get-the-data.html\n",
    "\n",
    "* Austin, Texas, United States\n",
    "* Boston, Massachusetts, United States\n",
    "* Chicago, Illinois, United States\n",
    "* Denver, Colorado, United States\n",
    "* Los Angeles, California, United States\n",
    "* Nashville, Tennessee, United States\n",
    "* New Orleans, Louisiana, United States\n",
    "* New York City, New York, United States\n",
    "* Oakland, California, United States\n",
    "* Portland, Oregon, United States\n",
    "* San Diego, California, United States\n",
    "* San Francisco, California, United States\n",
    "* Santa Cruz County, California, United States\n",
    "* Seattle, Washington, United States\n",
    "* Washington, D.C., District of Columbia, United States"
   ]
  },
  {
   "cell_type": "markdown",
   "metadata": {},
   "source": [
    "Demographic data sourced from: https://factfinder.census.gov/faces/nav/jsf/pages/index.xhtml"
   ]
  },
  {
   "cell_type": "code",
   "execution_count": null,
   "metadata": {
    "collapsed": true
   },
   "outputs": [],
   "source": []
  }
 ],
 "metadata": {
  "kernelspec": {
   "display_name": "Python 3",
   "language": "python",
   "name": "python3"
  },
  "language_info": {
   "codemirror_mode": {
    "name": "ipython",
    "version": 3
   },
   "file_extension": ".py",
   "mimetype": "text/x-python",
   "name": "python",
   "nbconvert_exporter": "python",
   "pygments_lexer": "ipython3",
   "version": "3.6.1"
  }
 },
 "nbformat": 4,
 "nbformat_minor": 2
}
