{
 "cells": [
  {
   "cell_type": "code",
   "execution_count": 76,
   "metadata": {
    "collapsed": true
   },
   "outputs": [],
   "source": [
    "import pandas as pd"
   ]
  },
  {
   "cell_type": "code",
   "execution_count": 77,
   "metadata": {
    "collapsed": true
   },
   "outputs": [],
   "source": [
    "from sklearn import linear_model"
   ]
  },
  {
   "cell_type": "code",
   "execution_count": 78,
   "metadata": {
    "collapsed": true
   },
   "outputs": [],
   "source": [
    "import numpy as np"
   ]
  },
  {
   "cell_type": "code",
   "execution_count": 79,
   "metadata": {
    "collapsed": true
   },
   "outputs": [],
   "source": [
    "import sklearn.metrics as skm"
   ]
  },
  {
   "cell_type": "code",
   "execution_count": 80,
   "metadata": {
    "collapsed": true
   },
   "outputs": [],
   "source": [
    "from sklearn.model_selection import GridSearchCV"
   ]
  },
  {
   "cell_type": "markdown",
   "metadata": {},
   "source": [
    "### Data Reading and Subsetting"
   ]
  },
  {
   "cell_type": "markdown",
   "metadata": {},
   "source": [
    "Run this to for debug:"
   ]
  },
  {
   "cell_type": "code",
   "execution_count": 81,
   "metadata": {
    "collapsed": true
   },
   "outputs": [],
   "source": [
    "quick_df = pd.read_csv(\"../fully_processed_data4.csv\",\n",
    "                      index_col = 0,\n",
    "                      nrows = 2500)"
   ]
  },
  {
   "cell_type": "markdown",
   "metadata": {},
   "source": [
    "Run this to use the whole dataset:"
   ]
  },
  {
   "cell_type": "code",
   "execution_count": null,
   "metadata": {
    "collapsed": true
   },
   "outputs": [],
   "source": [
    "quick_df = pd.read_csv(\"../fully_processed_data4.csv\",\n",
    "                      index_col = 0)"
   ]
  },
  {
   "cell_type": "code",
   "execution_count": 82,
   "metadata": {
    "scrolled": true
   },
   "outputs": [
    {
     "name": "stdout",
     "output_type": "stream",
     "text": [
      "(2500, 284)\n",
      "(2500, 282)\n"
     ]
    }
   ],
   "source": [
    "print(quick_df.shape)\n",
    "quick_df.drop(\"date\", axis = 1, inplace=True)   #we already have day month year column\n",
    "quick_df.drop(\"zipcode\", axis = 1, inplace=True)\n",
    "print(quick_df.shape)"
   ]
  },
  {
   "cell_type": "markdown",
   "metadata": {},
   "source": [
    "Partition the model into training, validation and test. Each set should contain different listing_ids:"
   ]
  },
  {
   "cell_type": "code",
   "execution_count": 83,
   "metadata": {
    "scrolled": true
   },
   "outputs": [
    {
     "data": {
      "text/plain": [
       "0        213006\n",
       "1       6214161\n",
       "2        284690\n",
       "3       3455514\n",
       "4      11730986\n",
       "5       4764715\n",
       "6        881707\n",
       "7       1290287\n",
       "8       8505396\n",
       "9       7616053\n",
       "10      3889212\n",
       "11      2283071\n",
       "12      9476164\n",
       "13       761414\n",
       "14      1948744\n",
       "15      2500681\n",
       "16      3741771\n",
       "17     11653712\n",
       "18      3522134\n",
       "19      4249688\n",
       "20      5231708\n",
       "21      2761822\n",
       "22      2192480\n",
       "23       726625\n",
       "24      7387243\n",
       "25     12250733\n",
       "26      1422958\n",
       "27     11839089\n",
       "28      8051829\n",
       "29      3569783\n",
       "         ...   \n",
       "87     11392366\n",
       "88      6325103\n",
       "89      2176375\n",
       "90      6071161\n",
       "91      9532795\n",
       "92      3574658\n",
       "93      6741903\n",
       "94     10335139\n",
       "95      8895397\n",
       "96      6869926\n",
       "97      7712679\n",
       "98      8656299\n",
       "99      1785262\n",
       "100      597424\n",
       "101     8496052\n",
       "102     9442229\n",
       "103     7132603\n",
       "104     2142139\n",
       "105     9592262\n",
       "106     1332684\n",
       "107     3268055\n",
       "108     3522532\n",
       "109     6599654\n",
       "110     4215788\n",
       "111     7361005\n",
       "112     6419437\n",
       "113     3767793\n",
       "114     7543799\n",
       "115     6234618\n",
       "116     5354494\n",
       "Length: 117, dtype: int64"
      ]
     },
     "execution_count": 83,
     "metadata": {},
     "output_type": "execute_result"
    }
   ],
   "source": [
    "listing_ids = pd.Series(list(set(quick_df[\"listing_id\"])))\n",
    "listing_ids"
   ]
  },
  {
   "cell_type": "code",
   "execution_count": 84,
   "metadata": {
    "collapsed": true
   },
   "outputs": [],
   "source": [
    "train_id, validate_id, test_id = np.split(listing_ids.sample(frac=1), \n",
    "                                         [int(.6*len(listing_ids)), int(.8*len(listing_ids))])"
   ]
  },
  {
   "cell_type": "code",
   "execution_count": 85,
   "metadata": {
    "scrolled": true
   },
   "outputs": [
    {
     "data": {
      "text/plain": [
       "(70,)"
      ]
     },
     "execution_count": 85,
     "metadata": {},
     "output_type": "execute_result"
    }
   ],
   "source": [
    "train_id.shape"
   ]
  },
  {
   "cell_type": "code",
   "execution_count": 86,
   "metadata": {},
   "outputs": [
    {
     "data": {
      "text/plain": [
       "(23,)"
      ]
     },
     "execution_count": 86,
     "metadata": {},
     "output_type": "execute_result"
    }
   ],
   "source": [
    "validate_id.shape"
   ]
  },
  {
   "cell_type": "code",
   "execution_count": 87,
   "metadata": {},
   "outputs": [
    {
     "data": {
      "text/plain": [
       "(24,)"
      ]
     },
     "execution_count": 87,
     "metadata": {},
     "output_type": "execute_result"
    }
   ],
   "source": [
    "test_id.shape"
   ]
  },
  {
   "cell_type": "code",
   "execution_count": 88,
   "metadata": {},
   "outputs": [
    {
     "data": {
      "text/plain": [
       "set()"
      ]
     },
     "execution_count": 88,
     "metadata": {},
     "output_type": "execute_result"
    }
   ],
   "source": [
    "set(train_id.values).intersection(validate_id.values)"
   ]
  },
  {
   "cell_type": "code",
   "execution_count": 89,
   "metadata": {
    "scrolled": true
   },
   "outputs": [
    {
     "data": {
      "text/plain": [
       "set()"
      ]
     },
     "execution_count": 89,
     "metadata": {},
     "output_type": "execute_result"
    }
   ],
   "source": [
    "set(train_id.values).intersection(test_id.values)"
   ]
  },
  {
   "cell_type": "code",
   "execution_count": 90,
   "metadata": {},
   "outputs": [
    {
     "data": {
      "text/plain": [
       "set()"
      ]
     },
     "execution_count": 90,
     "metadata": {},
     "output_type": "execute_result"
    }
   ],
   "source": [
    "set(test_id.values).intersection(validate_id.values)"
   ]
  },
  {
   "cell_type": "code",
   "execution_count": 91,
   "metadata": {
    "scrolled": true
   },
   "outputs": [
    {
     "data": {
      "text/plain": [
       "(1410, 282)"
      ]
     },
     "execution_count": 91,
     "metadata": {},
     "output_type": "execute_result"
    }
   ],
   "source": [
    "train_df = quick_df[quick_df[\"listing_id\"].isin(train_id)]\n",
    "train_df.shape"
   ]
  },
  {
   "cell_type": "code",
   "execution_count": 92,
   "metadata": {},
   "outputs": [
    {
     "data": {
      "text/plain": [
       "(511, 282)"
      ]
     },
     "execution_count": 92,
     "metadata": {},
     "output_type": "execute_result"
    }
   ],
   "source": [
    "validate_df = quick_df[quick_df[\"listing_id\"].isin(validate_id)]\n",
    "validate_df.shape"
   ]
  },
  {
   "cell_type": "code",
   "execution_count": 93,
   "metadata": {},
   "outputs": [
    {
     "data": {
      "text/plain": [
       "(579, 282)"
      ]
     },
     "execution_count": 93,
     "metadata": {},
     "output_type": "execute_result"
    }
   ],
   "source": [
    "test_df = quick_df[quick_df[\"listing_id\"].isin(test_id)]\n",
    "test_df.shape"
   ]
  },
  {
   "cell_type": "code",
   "execution_count": 94,
   "metadata": {},
   "outputs": [
    {
     "data": {
      "text/plain": [
       "(1921, 282)"
      ]
     },
     "execution_count": 94,
     "metadata": {},
     "output_type": "execute_result"
    }
   ],
   "source": [
    "train_val_df = quick_df[quick_df[\"listing_id\"].isin(train_id.append(validate_id))]\n",
    "train_val_df.shape"
   ]
  },
  {
   "cell_type": "markdown",
   "metadata": {},
   "source": [
    "### Generating Custom Folds"
   ]
  },
  {
   "cell_type": "markdown",
   "metadata": {},
   "source": [
    "To make sure that each house's every listing only is in the training or validation set and is not in both sets a custom Kfold function was applied:"
   ]
  },
  {
   "cell_type": "code",
   "execution_count": 95,
   "metadata": {
    "collapsed": true
   },
   "outputs": [],
   "source": [
    "from sklearn.model_selection import GroupKFold"
   ]
  },
  {
   "cell_type": "code",
   "execution_count": 96,
   "metadata": {},
   "outputs": [
    {
     "data": {
      "text/plain": [
       "[(array([  16,   17,   18, ..., 1918, 1919, 1920]),\n",
       "  array([   0,    1,    2,    3,    4,    5,    6,    7,    8,    9,   10,\n",
       "           11,   12,   13,   14,   15,  343,  344,  345,  346,  347,  348,\n",
       "          349,  350,  351,  352,  353,  354,  355,  356,  357,  358,  359,\n",
       "          360,  361,  362,  363,  364,  365,  366,  367,  368,  369,  370,\n",
       "          371,  372,  373,  374,  375,  376,  377,  378,  379,  380,  381,\n",
       "          382,  383,  384,  385,  386,  387,  388,  389,  390,  391,  392,\n",
       "          393,  394,  395,  396,  397,  398,  399,  400,  401,  402,  403,\n",
       "          404,  405,  406,  407,  408,  409,  410,  411,  412,  413,  414,\n",
       "          415,  416,  417,  638,  639,  640,  641,  642,  643,  644,  645,\n",
       "          646,  647,  648,  649,  650,  651,  652,  653,  654,  655,  656,\n",
       "          657,  658,  659,  660,  661,  662,  663,  664,  665,  666,  667,\n",
       "          668,  669,  670,  781,  782,  783,  784,  785,  786,  787,  788,\n",
       "          789,  790,  791,  792,  793,  794,  795,  796,  797,  798,  799,\n",
       "          800,  801,  802,  803,  804,  805,  806,  807,  808,  809,  831,\n",
       "          832,  833,  834,  835,  836,  837,  838,  839,  840,  841,  842,\n",
       "          843,  844,  845,  846,  847,  848,  849,  850,  851,  852,  853,\n",
       "          854,  855,  856,  857,  858,  859,  860,  861,  862,  863,  864,\n",
       "          865,  919,  920,  921,  922,  923,  924,  925,  926,  927,  939,\n",
       "          940,  941,  942,  943,  944,  945,  946,  947,  948,  949,  950,\n",
       "          951,  952,  953,  954,  955,  956,  957,  958,  959,  960,  961,\n",
       "          962,  997,  998,  999, 1000, 1001, 1002, 1003, 1173, 1174, 1175,\n",
       "         1176, 1177, 1233, 1234, 1235, 1236, 1237, 1238, 1239, 1240, 1241,\n",
       "         1242, 1243, 1244, 1245, 1246, 1247, 1248, 1249, 1250, 1251, 1300,\n",
       "         1301, 1302, 1303, 1304, 1305, 1306, 1307, 1308, 1309, 1310, 1311,\n",
       "         1312, 1313, 1314, 1315, 1316, 1317, 1318, 1319, 1320, 1321, 1322,\n",
       "         1323, 1324, 1325, 1326, 1327, 1328, 1329, 1330, 1331, 1332, 1333,\n",
       "         1334, 1335, 1336, 1337, 1380, 1381, 1382, 1383, 1384, 1385, 1386,\n",
       "         1387, 1388, 1389, 1390, 1391, 1392, 1393, 1394, 1395, 1396, 1397,\n",
       "         1398, 1399, 1400, 1478, 1479, 1480, 1481, 1482, 1483, 1484, 1485,\n",
       "         1486, 1487, 1488, 1489, 1490, 1491, 1492, 1493, 1494, 1495, 1496,\n",
       "         1497, 1498, 1499, 1500, 1501, 1502, 1653, 1654, 1655, 1656, 1657,\n",
       "         1658, 1659, 1660, 1661, 1662, 1663, 1664, 1665, 1849, 1850, 1851,\n",
       "         1852, 1853, 1877, 1878, 1879, 1880, 1881, 1882, 1883, 1884, 1885,\n",
       "         1886, 1887, 1888, 1889, 1890, 1891, 1892, 1893, 1894, 1895, 1896,\n",
       "         1897, 1898, 1899, 1900, 1901, 1902, 1903, 1904, 1905, 1906])),\n",
       " (array([   0,    1,    2, ..., 1918, 1919, 1920]),\n",
       "  array([  16,   17,   18,   19,   20,   21,   22,   23,   24,   25,   26,\n",
       "           27,   28,   29,   30,   31,   32,   33,   34,   35,   36,   37,\n",
       "           38,   39,   40,   41,   42,   43,   44,   45,   46,   47,   48,\n",
       "           49,   50,   51,   52,   53,   54,   55,   56,   57,   58,   59,\n",
       "           60,   61,   62,   63,   64,   65,   66,   67,   68,   69,   70,\n",
       "           71,   72,   73,   74,   75,   76,   77,   78,   79,   80,   81,\n",
       "           82,   83,   84,   85,   86,   87,   88,   89,   90,   91,   92,\n",
       "           93,   94,   95,   96,   97,   98,   99,  100,  101,  102,  103,\n",
       "          104,  105,  106,  107,  153,  154,  155,  156,  157,  158,  159,\n",
       "          160,  161,  162,  163,  164,  165,  166,  167,  168,  169,  170,\n",
       "          171,  172,  327,  328,  329,  330,  331,  332,  333,  334,  335,\n",
       "          336,  337,  338,  339,  340,  341,  342,  418,  419,  420,  421,\n",
       "          422,  423,  424,  425,  426,  427,  428,  429,  430,  431,  432,\n",
       "          433,  434,  435,  436,  437,  438,  439,  440,  441,  442,  443,\n",
       "          444,  445,  446,  447,  448,  449,  450,  468,  469,  470,  471,\n",
       "          472,  704,  705,  706,  707,  708,  709,  710,  711,  712,  713,\n",
       "          714,  715,  716,  717,  718,  719,  720,  721,  722,  723,  724,\n",
       "          725,  726,  727,  728,  729,  730,  731,  732,  750,  751,  752,\n",
       "          753,  754,  755,  756,  757,  758,  759,  760,  761,  762,  763,\n",
       "          764,  765,  766,  767,  768,  769,  770,  771,  772,  773,  774,\n",
       "          775,  776,  777,  778,  779,  780,  930,  931,  932,  933,  934,\n",
       "          935,  936,  937,  938,  986,  987,  988,  989,  990,  991,  992,\n",
       "          993,  994,  995,  996, 1273, 1274, 1275, 1276, 1277, 1278, 1279,\n",
       "         1280, 1281, 1282, 1283, 1284, 1285, 1286, 1287, 1288, 1289, 1290,\n",
       "         1291, 1292, 1293, 1294, 1295, 1401, 1402, 1403, 1404, 1405, 1406,\n",
       "         1407, 1408, 1451, 1452, 1453, 1454, 1455, 1456, 1457, 1458, 1459,\n",
       "         1460, 1461, 1462, 1463, 1464, 1465, 1466, 1467, 1468, 1469, 1470,\n",
       "         1471, 1472, 1473, 1474, 1475, 1476, 1477, 1666, 1667, 1668, 1669,\n",
       "         1670, 1671, 1672, 1673, 1674, 1675, 1676, 1677, 1678, 1679, 1680,\n",
       "         1681, 1682, 1683, 1684, 1685, 1686, 1687, 1688, 1689, 1690, 1691,\n",
       "         1692, 1693, 1694, 1695, 1696, 1697, 1785, 1786, 1787, 1788, 1789,\n",
       "         1790, 1791, 1792, 1793, 1794, 1795, 1796, 1797, 1798, 1799, 1800,\n",
       "         1801, 1802, 1803, 1804, 1805, 1806, 1807, 1808, 1809, 1854, 1855,\n",
       "         1856, 1857, 1858, 1859, 1860, 1861, 1862, 1863, 1864, 1865, 1866,\n",
       "         1867, 1868, 1869, 1870, 1871, 1872, 1873, 1874, 1875, 1876])),\n",
       " (array([   0,    1,    2, ..., 1918, 1919, 1920]),\n",
       "  array([ 173,  174,  175,  176,  177,  178,  179,  180,  181,  182,  183,\n",
       "          184,  185,  186,  187,  188,  189,  190,  191,  192,  193,  194,\n",
       "          195,  196,  197,  198,  199,  200,  201,  202,  203,  204,  205,\n",
       "          206,  207,  208,  209,  243,  244,  245,  246,  247,  248,  249,\n",
       "          250,  251,  252,  253,  254,  255,  256,  257,  258,  259,  260,\n",
       "          261,  262,  263,  264,  265,  266,  267,  268,  269,  270,  271,\n",
       "          272,  273,  274,  275,  276,  671,  672,  673,  674,  675,  676,\n",
       "          677,  678,  679,  680,  681,  682,  683,  684,  685,  686,  687,\n",
       "          688,  689,  690,  691,  692,  693,  694,  695,  866,  867,  868,\n",
       "          869,  870,  871,  872,  873,  874,  875,  876,  877,  878,  879,\n",
       "          880,  881,  882,  883,  884,  885,  886,  887,  888,  928,  929,\n",
       "         1004, 1005, 1006, 1007, 1008, 1009, 1010, 1011, 1012, 1013, 1014,\n",
       "         1015, 1016, 1017, 1018, 1019, 1020, 1021, 1022, 1023, 1024, 1025,\n",
       "         1026, 1027, 1028, 1029, 1030, 1031, 1032, 1033, 1034, 1035, 1036,\n",
       "         1063, 1064, 1065, 1066, 1067, 1068, 1069, 1070, 1071, 1072, 1073,\n",
       "         1074, 1075, 1076, 1077, 1078, 1079, 1080, 1081, 1082, 1083, 1084,\n",
       "         1085, 1086, 1087, 1088, 1089, 1090, 1091, 1092, 1093, 1145, 1146,\n",
       "         1147, 1148, 1149, 1150, 1151, 1152, 1153, 1154, 1155, 1156, 1157,\n",
       "         1158, 1159, 1160, 1161, 1162, 1163, 1164, 1165, 1166, 1167, 1168,\n",
       "         1169, 1170, 1171, 1172, 1252, 1253, 1254, 1255, 1256, 1257, 1258,\n",
       "         1259, 1260, 1261, 1269, 1270, 1271, 1272, 1353, 1354, 1355, 1356,\n",
       "         1357, 1358, 1359, 1360, 1361, 1362, 1363, 1364, 1365, 1366, 1367,\n",
       "         1368, 1369, 1370, 1371, 1372, 1373, 1374, 1375, 1376, 1377, 1378,\n",
       "         1379, 1537, 1538, 1539, 1540, 1541, 1542, 1543, 1544, 1545, 1546,\n",
       "         1547, 1548, 1549, 1550, 1551, 1552, 1553, 1554, 1555, 1556, 1557,\n",
       "         1558, 1559, 1560, 1561, 1562, 1563, 1564, 1565, 1566, 1567, 1568,\n",
       "         1569, 1570, 1571, 1572, 1573, 1574, 1575, 1602, 1603, 1604, 1605,\n",
       "         1606, 1607, 1608, 1609, 1610, 1611, 1612, 1613, 1614, 1615, 1616,\n",
       "         1617, 1618, 1619, 1620, 1621, 1622, 1623, 1624, 1625, 1626, 1627,\n",
       "         1628, 1629, 1698, 1699, 1700, 1701, 1702, 1703, 1704, 1705, 1706,\n",
       "         1707, 1708, 1709, 1710, 1711, 1712, 1713, 1714, 1715, 1777, 1778,\n",
       "         1779, 1780, 1781, 1782, 1783, 1784, 1810, 1811, 1812, 1813, 1814,\n",
       "         1815, 1816, 1817, 1818, 1819, 1820, 1821, 1822, 1823, 1824, 1825,\n",
       "         1826, 1827, 1828, 1829, 1830, 1831, 1832, 1833, 1834, 1835, 1836,\n",
       "         1837, 1838, 1839, 1840, 1841, 1842, 1843, 1844, 1845, 1846, 1847])),\n",
       " (array([   0,    1,    2, ..., 1918, 1919, 1920]),\n",
       "  array([ 143,  144,  145,  146,  147,  148,  149,  150,  151,  152,  210,\n",
       "          211,  212,  213,  214,  215,  216,  217,  218,  219,  220,  221,\n",
       "          222,  223,  224,  225,  226,  227,  228,  229,  230,  231,  232,\n",
       "          233,  234,  235,  236,  237,  238,  239,  240,  241,  242,  309,\n",
       "          310,  311,  312,  313,  314,  315,  316,  317,  318,  319,  320,\n",
       "          321,  322,  323,  324,  325,  326,  451,  452,  453,  454,  455,\n",
       "          456,  457,  458,  459,  494,  495,  496,  497,  498,  499,  500,\n",
       "          501,  502,  503,  504,  505,  506,  507,  508,  509,  510,  511,\n",
       "          512,  513,  514,  515,  516,  517,  518,  519,  520,  521,  522,\n",
       "          523,  524,  525,  526,  527,  528,  696,  697,  698,  699,  700,\n",
       "          701,  702,  703,  733,  734,  735,  736,  737,  738,  739,  740,\n",
       "          741,  742,  743,  744,  745,  746,  747,  748,  749,  889,  890,\n",
       "          891,  892,  893,  894,  895,  896,  897,  898,  899,  900,  901,\n",
       "          902,  903,  904,  905,  906,  907,  908,  909,  910,  911,  912,\n",
       "          913,  914,  915,  916,  917,  918, 1094, 1095, 1096, 1097, 1098,\n",
       "         1099, 1100, 1101, 1102, 1103, 1104, 1105, 1106, 1107, 1108, 1109,\n",
       "         1110, 1111, 1112, 1113, 1114, 1115, 1116, 1117, 1118, 1119, 1120,\n",
       "         1121, 1122, 1123, 1124, 1125, 1126, 1127, 1128, 1129, 1130, 1131,\n",
       "         1132, 1133, 1134, 1135, 1136, 1137, 1138, 1139, 1140, 1141, 1142,\n",
       "         1143, 1144, 1178, 1179, 1180, 1181, 1182, 1183, 1184, 1185, 1186,\n",
       "         1187, 1188, 1189, 1190, 1191, 1192, 1193, 1194, 1195, 1196, 1197,\n",
       "         1198, 1199, 1200, 1201, 1202, 1203, 1204, 1205, 1206, 1207, 1208,\n",
       "         1209, 1210, 1211, 1212, 1213, 1214, 1215, 1216, 1217, 1218, 1219,\n",
       "         1220, 1221, 1222, 1223, 1224, 1225, 1226, 1227, 1228, 1229, 1230,\n",
       "         1231, 1232, 1409, 1410, 1411, 1412, 1413, 1414, 1415, 1416, 1417,\n",
       "         1418, 1419, 1420, 1421, 1422, 1423, 1424, 1425, 1426, 1427, 1428,\n",
       "         1429, 1430, 1431, 1432, 1433, 1434, 1435, 1436, 1437, 1438, 1439,\n",
       "         1440, 1441, 1442, 1443, 1444, 1445, 1446, 1447, 1448, 1449, 1450,\n",
       "         1576, 1577, 1578, 1579, 1580, 1581, 1582, 1583, 1584, 1585, 1586,\n",
       "         1587, 1588, 1589, 1590, 1591, 1592, 1593, 1594, 1595, 1596, 1597,\n",
       "         1598, 1599, 1600, 1601, 1630, 1631, 1632, 1633, 1634, 1635, 1636,\n",
       "         1637, 1638, 1639, 1640, 1641, 1642, 1643, 1644, 1645, 1646, 1647,\n",
       "         1648, 1649, 1650, 1651, 1652, 1751, 1752, 1753, 1754, 1755, 1756,\n",
       "         1757, 1758, 1759, 1760, 1761, 1762, 1763, 1764, 1765, 1766, 1767,\n",
       "         1768, 1769, 1770, 1771, 1772, 1773, 1774, 1775, 1776, 1848])),\n",
       " (array([   0,    1,    2, ..., 1904, 1905, 1906]),\n",
       "  array([ 108,  109,  110,  111,  112,  113,  114,  115,  116,  117,  118,\n",
       "          119,  120,  121,  122,  123,  124,  125,  126,  127,  128,  129,\n",
       "          130,  131,  132,  133,  134,  135,  136,  137,  138,  139,  140,\n",
       "          141,  142,  277,  278,  279,  280,  281,  282,  283,  284,  285,\n",
       "          286,  287,  288,  289,  290,  291,  292,  293,  294,  295,  296,\n",
       "          297,  298,  299,  300,  301,  302,  303,  304,  305,  306,  307,\n",
       "          308,  460,  461,  462,  463,  464,  465,  466,  467,  473,  474,\n",
       "          475,  476,  477,  478,  479,  480,  481,  482,  483,  484,  485,\n",
       "          486,  487,  488,  489,  490,  491,  492,  493,  529,  530,  531,\n",
       "          532,  533,  534,  535,  536,  537,  538,  539,  540,  541,  542,\n",
       "          543,  544,  545,  546,  547,  548,  549,  550,  551,  552,  553,\n",
       "          554,  555,  556,  557,  558,  559,  560,  561,  562,  563,  564,\n",
       "          565,  566,  567,  568,  569,  570,  571,  572,  573,  574,  575,\n",
       "          576,  577,  578,  579,  580,  581,  582,  583,  584,  585,  586,\n",
       "          587,  588,  589,  590,  591,  592,  593,  594,  595,  596,  597,\n",
       "          598,  599,  600,  601,  602,  603,  604,  605,  606,  607,  608,\n",
       "          609,  610,  611,  612,  613,  614,  615,  616,  617,  618,  619,\n",
       "          620,  621,  622,  623,  624,  625,  626,  627,  628,  629,  630,\n",
       "          631,  632,  633,  634,  635,  636,  637,  810,  811,  812,  813,\n",
       "          814,  815,  816,  817,  818,  819,  820,  821,  822,  823,  824,\n",
       "          825,  826,  827,  828,  829,  830,  963,  964,  965,  966,  967,\n",
       "          968,  969,  970,  971,  972,  973,  974,  975,  976,  977,  978,\n",
       "          979,  980,  981,  982,  983,  984,  985, 1037, 1038, 1039, 1040,\n",
       "         1041, 1042, 1043, 1044, 1045, 1046, 1047, 1048, 1049, 1050, 1051,\n",
       "         1052, 1053, 1054, 1055, 1056, 1057, 1058, 1059, 1060, 1061, 1062,\n",
       "         1262, 1263, 1264, 1265, 1266, 1267, 1268, 1296, 1297, 1298, 1299,\n",
       "         1338, 1339, 1340, 1341, 1342, 1343, 1344, 1345, 1346, 1347, 1348,\n",
       "         1349, 1350, 1351, 1352, 1503, 1504, 1505, 1506, 1507, 1508, 1509,\n",
       "         1510, 1511, 1512, 1513, 1514, 1515, 1516, 1517, 1518, 1519, 1520,\n",
       "         1521, 1522, 1523, 1524, 1525, 1526, 1527, 1528, 1529, 1530, 1531,\n",
       "         1532, 1533, 1534, 1535, 1536, 1716, 1717, 1718, 1719, 1720, 1721,\n",
       "         1722, 1723, 1724, 1725, 1726, 1727, 1728, 1729, 1730, 1731, 1732,\n",
       "         1733, 1734, 1735, 1736, 1737, 1738, 1739, 1740, 1741, 1742, 1743,\n",
       "         1744, 1745, 1746, 1747, 1748, 1749, 1750, 1907, 1908, 1909, 1910,\n",
       "         1911, 1912, 1913, 1914, 1915, 1916, 1917, 1918, 1919, 1920]))]"
      ]
     },
     "execution_count": 96,
     "metadata": {},
     "output_type": "execute_result"
    }
   ],
   "source": [
    "custom_cv = list(GroupKFold(n_splits = 5).split(train_val_df.drop(\"price\",axis=1),\n",
    "                                                train_val_df[\"price\"],\n",
    "                                                train_val_df[\"listing_id\"]))\n",
    "custom_cv"
   ]
  },
  {
   "cell_type": "markdown",
   "metadata": {},
   "source": [
    "## Error Functions"
   ]
  },
  {
   "cell_type": "code",
   "execution_count": 22,
   "metadata": {
    "collapsed": true
   },
   "outputs": [],
   "source": [
    "def mean_abs_err(validate_df,y_pred):\n",
    "    return sum(abs(validate_df[\"price\"] - y_pred)/validate_df[\"price\"])/len(y_pred)"
   ]
  },
  {
   "cell_type": "code",
   "execution_count": 23,
   "metadata": {
    "collapsed": true
   },
   "outputs": [],
   "source": [
    "def price_conf_int_check(validate_df, upper_perc, lower_perc, y_pred):\n",
    "    upper_bound = validate_df[\"price\"] * (1 + upper_perc)\n",
    "    lower_bound = validate_df[\"price\"] * (1 - lower_perc)\n",
    "    \n",
    "    return sum(list(lower_bound < y_pred) & (y_pred < upper_bound)) / len(y_pred)"
   ]
  },
  {
   "cell_type": "markdown",
   "metadata": {},
   "source": [
    "## Random Forest"
   ]
  },
  {
   "cell_type": "code",
   "execution_count": 24,
   "metadata": {
    "collapsed": true
   },
   "outputs": [],
   "source": [
    "from sklearn.ensemble import RandomForestRegressor"
   ]
  },
  {
   "cell_type": "code",
   "execution_count": 25,
   "metadata": {
    "collapsed": true
   },
   "outputs": [],
   "source": [
    "from sklearn.model_selection import ParameterGrid"
   ]
  },
  {
   "cell_type": "markdown",
   "metadata": {},
   "source": [
    "### Single Random Forest Fit"
   ]
  },
  {
   "cell_type": "code",
   "execution_count": null,
   "metadata": {
    "collapsed": true
   },
   "outputs": [],
   "source": [
    "#rand_for = RandomForestRegressor(max_depth=10, random_state=0)\n",
    "rand_for = RandomForestRegressor()\n",
    "rand_for"
   ]
  },
  {
   "cell_type": "code",
   "execution_count": null,
   "metadata": {
    "collapsed": true
   },
   "outputs": [],
   "source": [
    "rand_for.fit(train_df.drop(\"price\",axis=1),train_df[\"price\"])"
   ]
  },
  {
   "cell_type": "code",
   "execution_count": null,
   "metadata": {
    "collapsed": true
   },
   "outputs": [],
   "source": [
    "rand_for.feature_importances_"
   ]
  },
  {
   "cell_type": "code",
   "execution_count": null,
   "metadata": {
    "collapsed": true
   },
   "outputs": [],
   "source": [
    "y_pred_randfor = rand_for.predict(validate_df.drop(\"price\",axis=1))\n",
    "y_pred_randfor"
   ]
  },
  {
   "cell_type": "code",
   "execution_count": null,
   "metadata": {
    "collapsed": true
   },
   "outputs": [],
   "source": [
    "skm.mean_squared_error(y_true= validate_df[\"price\"],\n",
    "                       y_pred= y_pred_randfor)"
   ]
  },
  {
   "cell_type": "code",
   "execution_count": null,
   "metadata": {
    "collapsed": true
   },
   "outputs": [],
   "source": [
    "mean_abs_err(validate_df,y_pred_lasso)"
   ]
  },
  {
   "cell_type": "code",
   "execution_count": null,
   "metadata": {
    "collapsed": true
   },
   "outputs": [],
   "source": [
    "price_conf_int_check(validate_df=validate_df,\n",
    "                    upper_perc = 0.2,\n",
    "                    lower_perc = 0.2,\n",
    "                    y_pred = y_pred_randfor)"
   ]
  },
  {
   "cell_type": "markdown",
   "metadata": {},
   "source": [
    "### Grid Search CV for RF"
   ]
  },
  {
   "cell_type": "code",
   "execution_count": 26,
   "metadata": {},
   "outputs": [
    {
     "data": {
      "text/plain": [
       "{'max_depth': [None, 5],\n",
       " 'min_samples_split': [10, 50],\n",
       " 'n_estimators': [20, 50, 100]}"
      ]
     },
     "execution_count": 26,
     "metadata": {},
     "output_type": "execute_result"
    }
   ],
   "source": [
    "param_rand_for = {'n_estimators': [20, 50, 100], \n",
    "                  'max_depth': [None, 5], \n",
    "                  'min_samples_split': [10, 50]}\n",
    "param_rand_for"
   ]
  },
  {
   "cell_type": "code",
   "execution_count": 27,
   "metadata": {},
   "outputs": [
    {
     "data": {
      "text/plain": [
       "RandomForestRegressor(bootstrap=True, criterion='mse', max_depth=None,\n",
       "           max_features='auto', max_leaf_nodes=None,\n",
       "           min_impurity_decrease=0.0, min_impurity_split=None,\n",
       "           min_samples_leaf=1, min_samples_split=2,\n",
       "           min_weight_fraction_leaf=0.0, n_estimators=10, n_jobs=1,\n",
       "           oob_score=False, random_state=None, verbose=0, warm_start=False)"
      ]
     },
     "execution_count": 27,
     "metadata": {},
     "output_type": "execute_result"
    }
   ],
   "source": [
    "#rand_for = RandomForestRegressor(max_depth=10, random_state=0)\n",
    "rand_for = RandomForestRegressor()\n",
    "rand_for"
   ]
  },
  {
   "cell_type": "markdown",
   "metadata": {},
   "source": [
    "For the Random Forest we can use the model's default scoring metric since it is MSE:"
   ]
  },
  {
   "cell_type": "code",
   "execution_count": 61,
   "metadata": {
    "collapsed": true
   },
   "outputs": [],
   "source": [
    "grid_rand_for = GridSearchCV(rand_for, \n",
    "                             param_rand_for, \n",
    "                             cv = custom_cv,\n",
    "                             scoring = \"neg_mean_squared_error\")"
   ]
  },
  {
   "cell_type": "code",
   "execution_count": 62,
   "metadata": {},
   "outputs": [
    {
     "data": {
      "text/plain": [
       "GridSearchCV(cv=[(array([   0,    1, ..., 8202, 8203]), array([ 390,  391, ..., 8209, 8210])), (array([  26,   27, ..., 8209, 8210]), array([   0,    1, ..., 8171, 8172])), (array([   0,    1, ..., 8209, 8210]), array([  26,   27, ..., 8140, 8141])), (array([   0,    1, ..., 8209, 8210]), array([  64,   65, ..., 8202, 8203])), (array([   0,    1, ..., 8209, 8210]), array([ 189,  190, ..., 8034, 8035]))],\n",
       "       error_score='raise',\n",
       "       estimator=RandomForestRegressor(bootstrap=True, criterion='mse', max_depth=None,\n",
       "           max_features='auto', max_leaf_nodes=None,\n",
       "           min_impurity_decrease=0.0, min_impurity_split=None,\n",
       "           min_samples_leaf=1, min_samples_split=2,\n",
       "           min_weight_fraction_leaf=0.0, n_estimators=10, n_jobs=1,\n",
       "           oob_score=False, random_state=None, verbose=0, warm_start=False),\n",
       "       fit_params=None, iid=True, n_jobs=1,\n",
       "       param_grid={'n_estimators': [20, 50, 100], 'max_depth': [None, 5], 'min_samples_split': [10, 50]},\n",
       "       pre_dispatch='2*n_jobs', refit=True, return_train_score='warn',\n",
       "       scoring='neg_mean_squared_error', verbose=0)"
      ]
     },
     "execution_count": 62,
     "metadata": {},
     "output_type": "execute_result"
    }
   ],
   "source": [
    "grid_rand_for.fit(train_val_df.drop(\"price\",axis=1),\n",
    "                  train_val_df[\"price\"])"
   ]
  },
  {
   "cell_type": "code",
   "execution_count": 63,
   "metadata": {},
   "outputs": [
    {
     "data": {
      "text/plain": [
       "-15242.25342682474"
      ]
     },
     "execution_count": 63,
     "metadata": {},
     "output_type": "execute_result"
    }
   ],
   "source": [
    "grid_rand_for.best_score_"
   ]
  },
  {
   "cell_type": "code",
   "execution_count": 64,
   "metadata": {
    "scrolled": true
   },
   "outputs": [
    {
     "data": {
      "text/plain": [
       "RandomForestRegressor(bootstrap=True, criterion='mse', max_depth=None,\n",
       "           max_features='auto', max_leaf_nodes=None,\n",
       "           min_impurity_decrease=0.0, min_impurity_split=None,\n",
       "           min_samples_leaf=1, min_samples_split=10,\n",
       "           min_weight_fraction_leaf=0.0, n_estimators=100, n_jobs=1,\n",
       "           oob_score=False, random_state=None, verbose=0, warm_start=False)"
      ]
     },
     "execution_count": 64,
     "metadata": {},
     "output_type": "execute_result"
    }
   ],
   "source": [
    "grid_rand_for.best_estimator_"
   ]
  },
  {
   "cell_type": "code",
   "execution_count": 65,
   "metadata": {},
   "outputs": [
    {
     "data": {
      "text/plain": [
       "{'max_depth': None, 'min_samples_split': 10, 'n_estimators': 100}"
      ]
     },
     "execution_count": 65,
     "metadata": {},
     "output_type": "execute_result"
    }
   ],
   "source": [
    "grid_rand_for.best_params_"
   ]
  },
  {
   "cell_type": "markdown",
   "metadata": {},
   "source": [
    "## Linear Regression with Lasso"
   ]
  },
  {
   "cell_type": "markdown",
   "metadata": {},
   "source": [
    "### Single Fit for LR with Lasso"
   ]
  },
  {
   "cell_type": "code",
   "execution_count": 30,
   "metadata": {
    "collapsed": true
   },
   "outputs": [],
   "source": [
    "lasso_alpha = 120"
   ]
  },
  {
   "cell_type": "code",
   "execution_count": 31,
   "metadata": {
    "collapsed": true
   },
   "outputs": [],
   "source": [
    "lasso_reg = linear_model.Lasso(alpha = lasso_alpha,\n",
    "                               max_iter = 5000000)"
   ]
  },
  {
   "cell_type": "code",
   "execution_count": 32,
   "metadata": {},
   "outputs": [
    {
     "data": {
      "text/plain": [
       "Lasso(alpha=120, copy_X=True, fit_intercept=True, max_iter=5000000,\n",
       "   normalize=False, positive=False, precompute=False, random_state=None,\n",
       "   selection='cyclic', tol=0.0001, warm_start=False)"
      ]
     },
     "execution_count": 32,
     "metadata": {},
     "output_type": "execute_result"
    }
   ],
   "source": [
    "lasso_reg.fit(train_df.drop(\"price\",axis=1),train_df[\"price\"])"
   ]
  },
  {
   "cell_type": "code",
   "execution_count": 33,
   "metadata": {},
   "outputs": [
    {
     "data": {
      "text/plain": [
       "array([ 103.85342634,  103.85342634,  103.85342634, ...,  116.81368974,\n",
       "        116.81368974,  116.81368974])"
      ]
     },
     "execution_count": 33,
     "metadata": {},
     "output_type": "execute_result"
    }
   ],
   "source": [
    "y_pred_lasso = lasso_reg.predict(validate_df.drop(\"price\",axis=1))\n",
    "y_pred_lasso"
   ]
  },
  {
   "cell_type": "code",
   "execution_count": 34,
   "metadata": {},
   "outputs": [
    {
     "data": {
      "text/plain": [
       "array([ 125.,  125.,  125., ...,   75.,   75.,   75.])"
      ]
     },
     "execution_count": 34,
     "metadata": {},
     "output_type": "execute_result"
    }
   ],
   "source": [
    "validate_df[\"price\"].values"
   ]
  },
  {
   "cell_type": "code",
   "execution_count": 35,
   "metadata": {},
   "outputs": [
    {
     "data": {
      "text/plain": [
       "0.037232337595621501"
      ]
     },
     "execution_count": 35,
     "metadata": {},
     "output_type": "execute_result"
    }
   ],
   "source": [
    "r2_score_lasso = skm.r2_score(validate_df[\"price\"], y_pred_lasso)\n",
    "r2_score_lasso"
   ]
  },
  {
   "cell_type": "code",
   "execution_count": 36,
   "metadata": {},
   "outputs": [
    {
     "data": {
      "text/plain": [
       "16605.810241244606"
      ]
     },
     "execution_count": 36,
     "metadata": {},
     "output_type": "execute_result"
    }
   ],
   "source": [
    "skm.mean_squared_error(y_true= validate_df[\"price\"],\n",
    "                       y_pred= y_pred_lasso)"
   ]
  },
  {
   "cell_type": "code",
   "execution_count": 38,
   "metadata": {},
   "outputs": [
    {
     "data": {
      "text/plain": [
       "0.47505132790737165"
      ]
     },
     "execution_count": 38,
     "metadata": {},
     "output_type": "execute_result"
    }
   ],
   "source": [
    "mean_abs_err(validate_df,y_pred_lasso)"
   ]
  },
  {
   "cell_type": "code",
   "execution_count": 42,
   "metadata": {
    "scrolled": true
   },
   "outputs": [
    {
     "data": {
      "text/plain": [
       "0.29475869226777374"
      ]
     },
     "execution_count": 42,
     "metadata": {},
     "output_type": "execute_result"
    }
   ],
   "source": [
    "price_conf_int_check(validate_df=validate_df,\n",
    "                    upper_perc = 0.2,\n",
    "                    lower_perc = 0.2,\n",
    "                    y_pred = y_pred_lasso)"
   ]
  },
  {
   "cell_type": "markdown",
   "metadata": {},
   "source": [
    "### Grid Search CV for LR with Lasso"
   ]
  },
  {
   "cell_type": "code",
   "execution_count": 28,
   "metadata": {},
   "outputs": [
    {
     "data": {
      "text/plain": [
       "{'alpha': [0.1, 0.25]}"
      ]
     },
     "execution_count": 28,
     "metadata": {},
     "output_type": "execute_result"
    }
   ],
   "source": [
    "#param_lasso = {'alpha': [0.1, 0.25, 0.5, 1]}\n",
    "param_lasso = {'alpha': [0.1, 0.25]}\n",
    "param_lasso"
   ]
  },
  {
   "cell_type": "code",
   "execution_count": 45,
   "metadata": {
    "collapsed": true
   },
   "outputs": [],
   "source": [
    "lasso_reg = linear_model.Lasso(max_iter = 100000)"
   ]
  },
  {
   "cell_type": "code",
   "execution_count": 56,
   "metadata": {},
   "outputs": [],
   "source": [
    "grid_lasso = GridSearchCV(lasso_reg, \n",
    "                          param_lasso, \n",
    "                          cv = custom_cv,\n",
    "                          scoring = \"neg_mean_squared_error\")"
   ]
  },
  {
   "cell_type": "markdown",
   "metadata": {},
   "source": [
    "DeprecationWarning: Scoring method mean_squared_error was renamed to neg_mean_squared_error in version 0.18 and will be removed in 0.20"
   ]
  },
  {
   "cell_type": "code",
   "execution_count": 57,
   "metadata": {},
   "outputs": [
    {
     "data": {
      "text/plain": [
       "GridSearchCV(cv=[(array([   0,    1, ..., 8202, 8203]), array([ 390,  391, ..., 8209, 8210])), (array([  26,   27, ..., 8209, 8210]), array([   0,    1, ..., 8171, 8172])), (array([   0,    1, ..., 8209, 8210]), array([  26,   27, ..., 8140, 8141])), (array([   0,    1, ..., 8209, 8210]), array([  64,   65, ..., 8202, 8203])), (array([   0,    1, ..., 8209, 8210]), array([ 189,  190, ..., 8034, 8035]))],\n",
       "       error_score='raise',\n",
       "       estimator=Lasso(alpha=1.0, copy_X=True, fit_intercept=True, max_iter=100000,\n",
       "   normalize=False, positive=False, precompute=False, random_state=None,\n",
       "   selection='cyclic', tol=0.0001, warm_start=False),\n",
       "       fit_params=None, iid=True, n_jobs=1,\n",
       "       param_grid={'alpha': [0.1, 0.25]}, pre_dispatch='2*n_jobs',\n",
       "       refit=True, return_train_score='warn',\n",
       "       scoring='neg_mean_squared_error', verbose=0)"
      ]
     },
     "execution_count": 57,
     "metadata": {},
     "output_type": "execute_result"
    }
   ],
   "source": [
    "grid_lasso.fit(train_val_df.drop(\"price\",axis=1),\n",
    "               train_val_df[\"price\"])"
   ]
  },
  {
   "cell_type": "code",
   "execution_count": 58,
   "metadata": {},
   "outputs": [
    {
     "data": {
      "text/plain": [
       "-14209.247074593983"
      ]
     },
     "execution_count": 58,
     "metadata": {},
     "output_type": "execute_result"
    }
   ],
   "source": [
    "grid_lasso.best_score_"
   ]
  },
  {
   "cell_type": "markdown",
   "metadata": {},
   "source": [
    "A non-negative floating point value (the best value is 0.0), or an array of floating point values, one for each individual target."
   ]
  },
  {
   "cell_type": "code",
   "execution_count": 59,
   "metadata": {},
   "outputs": [
    {
     "data": {
      "text/plain": [
       "Lasso(alpha=0.25, copy_X=True, fit_intercept=True, max_iter=100000,\n",
       "   normalize=False, positive=False, precompute=False, random_state=None,\n",
       "   selection='cyclic', tol=0.0001, warm_start=False)"
      ]
     },
     "execution_count": 59,
     "metadata": {},
     "output_type": "execute_result"
    }
   ],
   "source": [
    "grid_lasso.best_estimator_"
   ]
  },
  {
   "cell_type": "code",
   "execution_count": 60,
   "metadata": {},
   "outputs": [
    {
     "data": {
      "text/plain": [
       "{'alpha': 0.25}"
      ]
     },
     "execution_count": 60,
     "metadata": {},
     "output_type": "execute_result"
    }
   ],
   "source": [
    "grid_lasso.best_params_"
   ]
  },
  {
   "cell_type": "markdown",
   "metadata": {},
   "source": [
    "## XGBoost"
   ]
  },
  {
   "cell_type": "code",
   "execution_count": 97,
   "metadata": {},
   "outputs": [],
   "source": [
    "import xgboost as xgb"
   ]
  },
  {
   "cell_type": "code",
   "execution_count": 98,
   "metadata": {
    "collapsed": true
   },
   "outputs": [],
   "source": [
    "from xgboost import XGBClassifier"
   ]
  },
  {
   "cell_type": "markdown",
   "metadata": {},
   "source": [
    "### Single Fit for XGBoost"
   ]
  },
  {
   "cell_type": "code",
   "execution_count": 99,
   "metadata": {},
   "outputs": [
    {
     "data": {
      "text/plain": [
       "XGBClassifier(base_score=0.5, colsample_bylevel=1, colsample_bytree=1,\n",
       "       gamma=0, learning_rate=0.1, max_delta_step=0, max_depth=3,\n",
       "       min_child_weight=1, missing=None, n_estimators=100, nthread=-1,\n",
       "       objective='binary:logistic', reg_alpha=0, reg_lambda=1,\n",
       "       scale_pos_weight=1, seed=0, silent=True, subsample=1)"
      ]
     },
     "execution_count": 99,
     "metadata": {},
     "output_type": "execute_result"
    }
   ],
   "source": [
    "xgb = XGBClassifier()\n",
    "xgb"
   ]
  },
  {
   "cell_type": "code",
   "execution_count": 100,
   "metadata": {
    "scrolled": true
   },
   "outputs": [
    {
     "ename": "KeyboardInterrupt",
     "evalue": "",
     "output_type": "error",
     "traceback": [
      "\u001b[0;31m---------------------------------------------------------------------------\u001b[0m",
      "\u001b[0;31mKeyboardInterrupt\u001b[0m                         Traceback (most recent call last)",
      "\u001b[0;32m<ipython-input-100-2c205e01c9e1>\u001b[0m in \u001b[0;36m<module>\u001b[0;34m()\u001b[0m\n\u001b[0;32m----> 1\u001b[0;31m \u001b[0mxgb\u001b[0m\u001b[0;34m.\u001b[0m\u001b[0mfit\u001b[0m\u001b[0;34m(\u001b[0m\u001b[0mtrain_df\u001b[0m\u001b[0;34m.\u001b[0m\u001b[0mdrop\u001b[0m\u001b[0;34m(\u001b[0m\u001b[0;34m\"price\"\u001b[0m\u001b[0;34m,\u001b[0m\u001b[0maxis\u001b[0m\u001b[0;34m=\u001b[0m\u001b[0;36m1\u001b[0m\u001b[0;34m)\u001b[0m\u001b[0;34m,\u001b[0m\u001b[0mtrain_df\u001b[0m\u001b[0;34m[\u001b[0m\u001b[0;34m\"price\"\u001b[0m\u001b[0;34m]\u001b[0m\u001b[0;34m)\u001b[0m\u001b[0;34m\u001b[0m\u001b[0m\n\u001b[0m",
      "\u001b[0;32m~/anaconda/lib/python3.6/site-packages/xgboost/sklearn.py\u001b[0m in \u001b[0;36mfit\u001b[0;34m(self, X, y, sample_weight, eval_set, eval_metric, early_stopping_rounds, verbose)\u001b[0m\n\u001b[1;32m    443\u001b[0m                               \u001b[0mearly_stopping_rounds\u001b[0m\u001b[0;34m=\u001b[0m\u001b[0mearly_stopping_rounds\u001b[0m\u001b[0;34m,\u001b[0m\u001b[0;34m\u001b[0m\u001b[0m\n\u001b[1;32m    444\u001b[0m                               \u001b[0mevals_result\u001b[0m\u001b[0;34m=\u001b[0m\u001b[0mevals_result\u001b[0m\u001b[0;34m,\u001b[0m \u001b[0mobj\u001b[0m\u001b[0;34m=\u001b[0m\u001b[0mobj\u001b[0m\u001b[0;34m,\u001b[0m \u001b[0mfeval\u001b[0m\u001b[0;34m=\u001b[0m\u001b[0mfeval\u001b[0m\u001b[0;34m,\u001b[0m\u001b[0;34m\u001b[0m\u001b[0m\n\u001b[0;32m--> 445\u001b[0;31m                               verbose_eval=verbose)\n\u001b[0m\u001b[1;32m    446\u001b[0m \u001b[0;34m\u001b[0m\u001b[0m\n\u001b[1;32m    447\u001b[0m         \u001b[0mself\u001b[0m\u001b[0;34m.\u001b[0m\u001b[0mobjective\u001b[0m \u001b[0;34m=\u001b[0m \u001b[0mxgb_options\u001b[0m\u001b[0;34m[\u001b[0m\u001b[0;34m\"objective\"\u001b[0m\u001b[0;34m]\u001b[0m\u001b[0;34m\u001b[0m\u001b[0m\n",
      "\u001b[0;32m~/anaconda/lib/python3.6/site-packages/xgboost/training.py\u001b[0m in \u001b[0;36mtrain\u001b[0;34m(params, dtrain, num_boost_round, evals, obj, feval, maximize, early_stopping_rounds, evals_result, verbose_eval, learning_rates, xgb_model, callbacks)\u001b[0m\n\u001b[1;32m    203\u001b[0m                            \u001b[0mevals\u001b[0m\u001b[0;34m=\u001b[0m\u001b[0mevals\u001b[0m\u001b[0;34m,\u001b[0m\u001b[0;34m\u001b[0m\u001b[0m\n\u001b[1;32m    204\u001b[0m                            \u001b[0mobj\u001b[0m\u001b[0;34m=\u001b[0m\u001b[0mobj\u001b[0m\u001b[0;34m,\u001b[0m \u001b[0mfeval\u001b[0m\u001b[0;34m=\u001b[0m\u001b[0mfeval\u001b[0m\u001b[0;34m,\u001b[0m\u001b[0;34m\u001b[0m\u001b[0m\n\u001b[0;32m--> 205\u001b[0;31m                            xgb_model=xgb_model, callbacks=callbacks)\n\u001b[0m\u001b[1;32m    206\u001b[0m \u001b[0;34m\u001b[0m\u001b[0m\n\u001b[1;32m    207\u001b[0m \u001b[0;34m\u001b[0m\u001b[0m\n",
      "\u001b[0;32m~/anaconda/lib/python3.6/site-packages/xgboost/training.py\u001b[0m in \u001b[0;36m_train_internal\u001b[0;34m(params, dtrain, num_boost_round, evals, obj, feval, xgb_model, callbacks)\u001b[0m\n\u001b[1;32m     74\u001b[0m         \u001b[0;31m# Skip the first update if it is a recovery step.\u001b[0m\u001b[0;34m\u001b[0m\u001b[0;34m\u001b[0m\u001b[0m\n\u001b[1;32m     75\u001b[0m         \u001b[0;32mif\u001b[0m \u001b[0mversion\u001b[0m \u001b[0;34m%\u001b[0m \u001b[0;36m2\u001b[0m \u001b[0;34m==\u001b[0m \u001b[0;36m0\u001b[0m\u001b[0;34m:\u001b[0m\u001b[0;34m\u001b[0m\u001b[0m\n\u001b[0;32m---> 76\u001b[0;31m             \u001b[0mbst\u001b[0m\u001b[0;34m.\u001b[0m\u001b[0mupdate\u001b[0m\u001b[0;34m(\u001b[0m\u001b[0mdtrain\u001b[0m\u001b[0;34m,\u001b[0m \u001b[0mi\u001b[0m\u001b[0;34m,\u001b[0m \u001b[0mobj\u001b[0m\u001b[0;34m)\u001b[0m\u001b[0;34m\u001b[0m\u001b[0m\n\u001b[0m\u001b[1;32m     77\u001b[0m             \u001b[0mbst\u001b[0m\u001b[0;34m.\u001b[0m\u001b[0msave_rabit_checkpoint\u001b[0m\u001b[0;34m(\u001b[0m\u001b[0;34m)\u001b[0m\u001b[0;34m\u001b[0m\u001b[0m\n\u001b[1;32m     78\u001b[0m             \u001b[0mversion\u001b[0m \u001b[0;34m+=\u001b[0m \u001b[0;36m1\u001b[0m\u001b[0;34m\u001b[0m\u001b[0m\n",
      "\u001b[0;32m~/anaconda/lib/python3.6/site-packages/xgboost/core.py\u001b[0m in \u001b[0;36mupdate\u001b[0;34m(self, dtrain, iteration, fobj)\u001b[0m\n\u001b[1;32m    804\u001b[0m \u001b[0;34m\u001b[0m\u001b[0m\n\u001b[1;32m    805\u001b[0m         \u001b[0;32mif\u001b[0m \u001b[0mfobj\u001b[0m \u001b[0;32mis\u001b[0m \u001b[0;32mNone\u001b[0m\u001b[0;34m:\u001b[0m\u001b[0;34m\u001b[0m\u001b[0m\n\u001b[0;32m--> 806\u001b[0;31m             \u001b[0m_check_call\u001b[0m\u001b[0;34m(\u001b[0m\u001b[0m_LIB\u001b[0m\u001b[0;34m.\u001b[0m\u001b[0mXGBoosterUpdateOneIter\u001b[0m\u001b[0;34m(\u001b[0m\u001b[0mself\u001b[0m\u001b[0;34m.\u001b[0m\u001b[0mhandle\u001b[0m\u001b[0;34m,\u001b[0m \u001b[0miteration\u001b[0m\u001b[0;34m,\u001b[0m \u001b[0mdtrain\u001b[0m\u001b[0;34m.\u001b[0m\u001b[0mhandle\u001b[0m\u001b[0;34m)\u001b[0m\u001b[0;34m)\u001b[0m\u001b[0;34m\u001b[0m\u001b[0m\n\u001b[0m\u001b[1;32m    807\u001b[0m         \u001b[0;32melse\u001b[0m\u001b[0;34m:\u001b[0m\u001b[0;34m\u001b[0m\u001b[0m\n\u001b[1;32m    808\u001b[0m             \u001b[0mpred\u001b[0m \u001b[0;34m=\u001b[0m \u001b[0mself\u001b[0m\u001b[0;34m.\u001b[0m\u001b[0mpredict\u001b[0m\u001b[0;34m(\u001b[0m\u001b[0mdtrain\u001b[0m\u001b[0;34m)\u001b[0m\u001b[0;34m\u001b[0m\u001b[0m\n",
      "\u001b[0;31mKeyboardInterrupt\u001b[0m: "
     ]
    }
   ],
   "source": [
    "xgb.fit(train_df.drop(\"price\",axis=1),train_df[\"price\"])"
   ]
  },
  {
   "cell_type": "code",
   "execution_count": 58,
   "metadata": {},
   "outputs": [
    {
     "data": {
      "text/plain": [
       "array([ 125.,  115.,  115., ...,   70.,   70.,   70.])"
      ]
     },
     "execution_count": 58,
     "metadata": {},
     "output_type": "execute_result"
    }
   ],
   "source": [
    "y_pred_xgb = xgb.predict(validate_df.drop(\"price\",axis=1))\n",
    "y_pred_xgb"
   ]
  },
  {
   "cell_type": "code",
   "execution_count": 59,
   "metadata": {},
   "outputs": [
    {
     "data": {
      "text/plain": [
       "0.3283092499355158"
      ]
     },
     "execution_count": 59,
     "metadata": {},
     "output_type": "execute_result"
    }
   ],
   "source": [
    "r2_score_xgb = skm.r2_score(validate_df[\"price\"], y_pred_xgb)\n",
    "r2_score_xgb"
   ]
  },
  {
   "cell_type": "code",
   "execution_count": 60,
   "metadata": {},
   "outputs": [
    {
     "data": {
      "text/plain": [
       "11585.317592112091"
      ]
     },
     "execution_count": 60,
     "metadata": {},
     "output_type": "execute_result"
    }
   ],
   "source": [
    "skm.mean_squared_error(y_true= validate_df[\"price\"],\n",
    "                       y_pred= y_pred_xgb)"
   ]
  },
  {
   "cell_type": "code",
   "execution_count": 61,
   "metadata": {},
   "outputs": [
    {
     "data": {
      "text/plain": [
       "0.38584839320455511"
      ]
     },
     "execution_count": 61,
     "metadata": {},
     "output_type": "execute_result"
    }
   ],
   "source": [
    "mean_abs_err(validate_df,y_pred_xgb)"
   ]
  },
  {
   "cell_type": "code",
   "execution_count": 62,
   "metadata": {},
   "outputs": [
    {
     "data": {
      "text/plain": [
       "0.28437986507524649"
      ]
     },
     "execution_count": 62,
     "metadata": {},
     "output_type": "execute_result"
    }
   ],
   "source": [
    "price_conf_int_check(validate_df=validate_df,\n",
    "                    upper_perc = 0.2,\n",
    "                    lower_perc = 0.2,\n",
    "                    y_pred = y_pred_xgb)"
   ]
  },
  {
   "cell_type": "markdown",
   "metadata": {},
   "source": [
    "### Grid Search CV for XGBoost"
   ]
  },
  {
   "cell_type": "code",
   "execution_count": 101,
   "metadata": {},
   "outputs": [
    {
     "data": {
      "text/plain": [
       "{'learning_rate': [0.25, 0.5]}"
      ]
     },
     "execution_count": 101,
     "metadata": {},
     "output_type": "execute_result"
    }
   ],
   "source": [
    "#param_xgb = {'learning_rate': [0.1, 0.25, 0.5]}\n",
    "param_xgb = {'learning_rate': [0.25, 0.5]}\n",
    "param_xgb"
   ]
  },
  {
   "cell_type": "code",
   "execution_count": 102,
   "metadata": {},
   "outputs": [],
   "source": [
    "xgb = XGBClassifier()"
   ]
  },
  {
   "cell_type": "code",
   "execution_count": 103,
   "metadata": {
    "collapsed": true
   },
   "outputs": [],
   "source": [
    "grid_xgb = GridSearchCV(xgb, \n",
    "                          param_xgb, \n",
    "                          cv = custom_cv,\n",
    "                        scoring = \"neg_mean_squared_error\")"
   ]
  },
  {
   "cell_type": "code",
   "execution_count": 104,
   "metadata": {},
   "outputs": [
    {
     "data": {
      "text/plain": [
       "GridSearchCV(cv=[(array([  16,   17, ..., 1919, 1920]), array([   0,    1, ..., 1905, 1906])), (array([   0,    1, ..., 1919, 1920]), array([  16,   17, ..., 1875, 1876])), (array([   0,    1, ..., 1919, 1920]), array([ 173,  174, ..., 1846, 1847])), (array([   0,    1, ..., 1919, 1920]), array([ 143,  144, ..., 1776, 1848])), (array([   0,    1, ..., 1905, 1906]), array([ 108,  109, ..., 1919, 1920]))],\n",
       "       error_score='raise',\n",
       "       estimator=XGBClassifier(base_score=0.5, colsample_bylevel=1, colsample_bytree=1,\n",
       "       gamma=0, learning_rate=0.1, max_delta_step=0, max_depth=3,\n",
       "       min_child_weight=1, missing=None, n_estimators=100, nthread=-1,\n",
       "       objective='binary:logistic', reg_alpha=0, reg_lambda=1,\n",
       "       scale_pos_weight=1, seed=0, silent=True, subsample=1),\n",
       "       fit_params=None, iid=True, n_jobs=1,\n",
       "       param_grid={'learning_rate': [0.25, 0.5]}, pre_dispatch='2*n_jobs',\n",
       "       refit=True, return_train_score='warn',\n",
       "       scoring='neg_mean_squared_error', verbose=0)"
      ]
     },
     "execution_count": 104,
     "metadata": {},
     "output_type": "execute_result"
    }
   ],
   "source": [
    "grid_xgb.fit(train_val_df.drop(\"price\",axis=1),\n",
    "             train_val_df[\"price\"])"
   ]
  },
  {
   "cell_type": "code",
   "execution_count": 105,
   "metadata": {},
   "outputs": [
    {
     "data": {
      "text/plain": [
       "-2500.1697032795419"
      ]
     },
     "execution_count": 105,
     "metadata": {},
     "output_type": "execute_result"
    }
   ],
   "source": [
    "grid_xgb.best_score_"
   ]
  },
  {
   "cell_type": "code",
   "execution_count": 106,
   "metadata": {},
   "outputs": [
    {
     "data": {
      "text/plain": [
       "XGBClassifier(base_score=0.5, colsample_bylevel=1, colsample_bytree=1,\n",
       "       gamma=0, learning_rate=0.25, max_delta_step=0, max_depth=3,\n",
       "       min_child_weight=1, missing=None, n_estimators=100, nthread=-1,\n",
       "       objective='multi:softprob', reg_alpha=0, reg_lambda=1,\n",
       "       scale_pos_weight=1, seed=0, silent=True, subsample=1)"
      ]
     },
     "execution_count": 106,
     "metadata": {},
     "output_type": "execute_result"
    }
   ],
   "source": [
    "grid_xgb.best_estimator_"
   ]
  },
  {
   "cell_type": "code",
   "execution_count": 107,
   "metadata": {},
   "outputs": [
    {
     "data": {
      "text/plain": [
       "{'learning_rate': 0.25}"
      ]
     },
     "execution_count": 107,
     "metadata": {},
     "output_type": "execute_result"
    }
   ],
   "source": [
    "grid_xgb.best_params_"
   ]
  }
 ],
 "metadata": {
  "kernelspec": {
   "display_name": "Python 3",
   "language": "python",
   "name": "python3"
  },
  "language_info": {
   "codemirror_mode": {
    "name": "ipython",
    "version": 3
   },
   "file_extension": ".py",
   "mimetype": "text/x-python",
   "name": "python",
   "nbconvert_exporter": "python",
   "pygments_lexer": "ipython3",
   "version": "3.6.1"
  }
 },
 "nbformat": 4,
 "nbformat_minor": 2
}
