{
 "cells": [
  {
   "cell_type": "markdown",
   "metadata": {},
   "source": [
    "### Demographic Data"
   ]
  },
  {
   "cell_type": "markdown",
   "metadata": {},
   "source": [
    "Age, Sex, Income Data by Zipcode\n",
    "\n",
    "https://factfinder.census.gov/faces/nav/jsf/pages/index.xhtml\n",
    "\n",
    "https://en.wikipedia.org/wiki/ZIP_Code_Tabulation_Area"
   ]
  },
  {
   "cell_type": "markdown",
   "metadata": {},
   "source": [
    "Zipcode Tabulation Area vs Zipcodes\n",
    "\n",
    "*  developed by the United States Census Bureau for tabulating summary statistics\n",
    "* ZCTAs are generalized area representations of the United States Postal Service (USPS) ZIP code service areas, but are not the same as ZIP codes.\n",
    "* some addresses end up with a ZCTA code that is different from their ZIP code. ZCTAs are not developed for ZIP codes that comprise only a small number of addresses.\n",
    "* There are approximately 42,000 ZIP Codes and 32,000 ZCTAs. The reason that there is not one ZCTA for every ZIP Code is that PO Boxes are excluded in ZCTAs, since only populated areas are included in the Census data."
   ]
  },
  {
   "cell_type": "code",
   "execution_count": null,
   "metadata": {
    "collapsed": true
   },
   "outputs": [],
   "source": []
  }
 ],
 "metadata": {
  "kernelspec": {
   "display_name": "Python 3",
   "language": "python",
   "name": "python3"
  },
  "language_info": {
   "codemirror_mode": {
    "name": "ipython",
    "version": 3
   },
   "file_extension": ".py",
   "mimetype": "text/x-python",
   "name": "python",
   "nbconvert_exporter": "python",
   "pygments_lexer": "ipython3",
   "version": "3.6.1"
  }
 },
 "nbformat": 4,
 "nbformat_minor": 2
}
